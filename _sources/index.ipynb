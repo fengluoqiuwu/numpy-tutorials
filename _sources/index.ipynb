{
 "cells": [
  {
   "metadata": {},
   "cell_type": "markdown",
   "source": [
    "# 引言\n",
    "\n",
    "## 快速跳转\n",
    "\n",
    "  - [课程主页](https://fengluoqiuwu.com/numpy-tutorials/site/index.html)\n",
    "  - [Github仓库](https://github.com/fengluoqiuwu/numpy-tutorials)\n",
    "  - [作者邮箱](才不告诉你们，哼！)\n",
    "\n",
    "## 作者的话\n",
    "\n",
    "我现在是一名大二的学生，学习的方向是 AI 专业。\n",
    "这个教程，是针对于科学计算库 `Numpy` 的一份教程。\n",
    "我为什么要创建这个教程呢？\n",
    "\n",
    "如果我们打开B站，搜索 `Numpy`，我们就会发现有很多各式各样的 `Numpy` 教程。\n",
    "他们的讲解都十分详细，他们的内容也十分丰富。\n",
    "但是，他们中有很多都是两三年前发布的，而且大多都没有配套的讲义和练习。\n",
    "所以，我想要自己编写一个新的 `Numpy` 教程，从一位初学者到开发者的角度讲解 `Numpy`。\n",
    "\n",
    "......好吧，编不下去了。我做这个教程，单纯是因为——闲的！！！\n",
    "\n",
    "不过，无论如何，如果这份教程可以帮助到你们任何人学习 `Numpy` 我会感到非常荣幸。\n",
    "\n",
    "## 教程介绍\n",
    "\n",
    "这份教程采取多维度教学，根据不同内容分为了不同的章节。\n",
    "对于每一章节，均采取 讲义+视频+习题 的方式，其中讲义与习题都可以下载为\n",
    "`.jpynb`， `.md`, `.pdf`格式，个人建议使用`.jpynb`格式，这样可以直接执行讲义中的代码进行学习。\n",
    "每一章节的前半部分为基础入门，后半部分为提升教学，查看教程时如果只是初学不需要全部看完，按需自取即可。\n",
    "关于教程附带的代码，都可以在我的 Github 仓库中查看，Github 仓库点击我的课程主页上端链接就可以跳转。\n",
    "本教程参考了 Numpy 的官方文档和教程。\n",
    "嗯，懒得介绍了，就这样吧。\n",
    "\n",
    "## 转载许可\n",
    "\n",
    "本教程（以及其代码）采用 CC BY-NC 4.0 许可证，关于更详细的信息，请查看[这里](https://creativecommons.org/licenses/by-nc/4.0/)。\n",
    "重点声明一个要求：禁止商用！\n",
    "\n"
   ],
   "id": "9ebb07b5d5cf096e"
  }
 ],
 "metadata": {
  "kernelspec": {
   "display_name": "Python 3",
   "language": "python",
   "name": "python3"
  },
  "language_info": {
   "codemirror_mode": {
    "name": "ipython",
    "version": 2
   },
   "file_extension": ".py",
   "mimetype": "text/x-python",
   "name": "python",
   "nbconvert_exporter": "python",
   "pygments_lexer": "ipython2",
   "version": "2.7.6"
  }
 },
 "nbformat": 4,
 "nbformat_minor": 5
}
