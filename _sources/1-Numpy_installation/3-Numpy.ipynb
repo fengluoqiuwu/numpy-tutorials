{
 "cells": [
  {
   "metadata": {},
   "cell_type": "markdown",
   "source": [
    "# Part 3. Numpy 安装与介绍\n",
    "\n",
    "在本节中，我将说明 Numpy 的安装与介绍。\n",
    "\n",
    "## 课程视频\n",
    "\n",
    "## Numpy 安装\n",
    "\n",
    "在虚拟环境中，可以运行下述命令安装Numpy。\n",
    "```\n",
    "pip install numpy\n",
    "```\n",
    "在 Conda环境中，可以运行下述命令安装Numpy。\n",
    "```\n",
    "conda install numpy\n",
    "```\n",
    "安装之后，运行命令检验是否安装成功.\n",
    "```\n",
    "python -c \"import numpy as np;print(np.__version__)\"\n",
    "```\n",
    "如果输出的版本是你期望的 Numpy 版本，说明安装成功。\n",
    "\n",
    "## Numpy 介绍\n",
    "\n",
    "Numpy官网: https://numpy.org/\n",
    "Numpy文档: https://numpy.org/doc/stable/\n",
    "Numpy的github: https://github.com/numpy/numpy\n",
    "\n",
    "\n",
    "**NumPy**（Numerical Python）是 Python 中一个用于科学计算的库。\n",
    "它提供了一个高效的多维数组对象（`ndarray`），并且支持大量的数学运算和数据操作。\n",
    "NumPy 是许多数据分析、机器学习和科学计算库的基础。\n",
    "\n",
    "### 功能展示\n",
    "\n",
    "#### 1. `import numpy as np` 说明\n",
    "这使用 NumPy 时的标准导入方式。\n",
    "`np` 是对 NumPy 库的常用别名，几乎所有使用 NumPy 的 Python 代码都会采用这种方式。\n",
    "通过这种方式，你可以轻松调用 NumPy 中的函数和方法。"
   ],
   "id": "6492375f26d50b6b"
  },
  {
   "metadata": {
    "ExecuteTime": {
     "end_time": "2024-11-05T08:34:06.194009Z",
     "start_time": "2024-11-05T08:34:06.190921Z"
    }
   },
   "cell_type": "code",
   "source": "import numpy as np",
   "id": "8c28ac3b9e11d57a",
   "outputs": [],
   "execution_count": 16
  },
  {
   "metadata": {},
   "cell_type": "markdown",
   "source": [
    "#### 2. `ndarray`（多维数组）\n",
    "`ndarray` 是 NumPy 的核心数据结构，它是一个高效、固定大小的多维数组，支持批量的数学运算。\n",
    "\n"
   ],
   "id": "88efcd835e170ee0"
  },
  {
   "metadata": {
    "ExecuteTime": {
     "end_time": "2024-11-05T08:34:06.203442Z",
     "start_time": "2024-11-05T08:34:06.200521Z"
    }
   },
   "cell_type": "code",
   "source": [
    "arr = np.array([1, 2, 3])  # 创建一个一维数组\n",
    "print(arr)"
   ],
   "id": "87f1a31df29bbe88",
   "outputs": [
    {
     "name": "stdout",
     "output_type": "stream",
     "text": [
      "[1 2 3]\n"
     ]
    }
   ],
   "execution_count": 17
  },
  {
   "metadata": {},
   "cell_type": "markdown",
   "source": [
    "#### 3. 广播（Broadcasting）\n",
    "NumPy 支持数组形状不同但可以进行算术运算的功能，称为广播。\n",
    "\n"
   ],
   "id": "269e685fac845ac8"
  },
  {
   "metadata": {
    "ExecuteTime": {
     "end_time": "2024-11-05T08:34:06.282848Z",
     "start_time": "2024-11-05T08:34:06.275694Z"
    }
   },
   "cell_type": "code",
   "source": [
    "a = np.array([1, 2, 3])\n",
    "b = np.array([10])\n",
    "print(a + b)  # 输出 [11, 12, 13]"
   ],
   "id": "ca1f7ac6bff2691a",
   "outputs": [
    {
     "name": "stdout",
     "output_type": "stream",
     "text": [
      "[11 12 13]\n"
     ]
    }
   ],
   "execution_count": 18
  },
  {
   "metadata": {},
   "cell_type": "markdown",
   "source": [
    "#### 4. 数学运算\n",
    "NumPy 提供了大量的数学函数，可以对数组进行快速运算，包括加、减、乘、除等操作。\n",
    "\n"
   ],
   "id": "4d67876dbf4ea96b"
  },
  {
   "metadata": {
    "ExecuteTime": {
     "end_time": "2024-11-05T08:34:06.294437Z",
     "start_time": "2024-11-05T08:34:06.291364Z"
    }
   },
   "cell_type": "code",
   "source": [
    "a = np.array([1, 2, 3])\n",
    "b = np.array([4, 5, 6])\n",
    "print(np.add(a, b))  # 输出 [5 7 9]"
   ],
   "id": "b9c81fbe1c7db80a",
   "outputs": [
    {
     "name": "stdout",
     "output_type": "stream",
     "text": [
      "[5 7 9]\n"
     ]
    }
   ],
   "execution_count": 19
  },
  {
   "metadata": {},
   "cell_type": "markdown",
   "source": [
    "#### 5. 创建数组\n",
    "NumPy 提供多种方式来创建数组，比如创建全 0 数组、全 1 数组或指定范围的数组。\n",
    "\n"
   ],
   "id": "2a0c3dcad5b2c8c9"
  },
  {
   "metadata": {
    "ExecuteTime": {
     "end_time": "2024-11-05T08:34:06.308355Z",
     "start_time": "2024-11-05T08:34:06.304876Z"
    }
   },
   "cell_type": "code",
   "source": "np.zeros((2, 3))  # 创建一个 2x3 的零数组",
   "id": "aa8a300c2fae8e89",
   "outputs": [
    {
     "data": {
      "text/plain": [
       "array([[0., 0., 0.],\n",
       "       [0., 0., 0.]])"
      ]
     },
     "execution_count": 20,
     "metadata": {},
     "output_type": "execute_result"
    }
   ],
   "execution_count": 20
  },
  {
   "metadata": {
    "ExecuteTime": {
     "end_time": "2024-11-05T08:34:06.344469Z",
     "start_time": "2024-11-05T08:34:06.341341Z"
    }
   },
   "cell_type": "code",
   "source": "np.ones((2, 3))   # 创建一个 2x3 的一数组",
   "id": "5f04010acb08c4e",
   "outputs": [
    {
     "data": {
      "text/plain": [
       "array([[1., 1., 1.],\n",
       "       [1., 1., 1.]])"
      ]
     },
     "execution_count": 21,
     "metadata": {},
     "output_type": "execute_result"
    }
   ],
   "execution_count": 21
  },
  {
   "metadata": {
    "ExecuteTime": {
     "end_time": "2024-11-05T08:34:06.394554Z",
     "start_time": "2024-11-05T08:34:06.390021Z"
    }
   },
   "cell_type": "code",
   "source": "np.arange(0, 10, 2)  # 创建一个从 0 到 10 步长为 2 的数组",
   "id": "d512be44a313f2c6",
   "outputs": [
    {
     "data": {
      "text/plain": [
       "array([0, 2, 4, 6, 8])"
      ]
     },
     "execution_count": 22,
     "metadata": {},
     "output_type": "execute_result"
    }
   ],
   "execution_count": 22
  },
  {
   "metadata": {},
   "cell_type": "markdown",
   "source": [
    "### 应用场景\n",
    "\n",
    "NumPy 广泛应用于以下领域：\n",
    "\n",
    "1. **数据分析与处理**：\n",
    "   NumPy 提供的高效数组操作可以加速大规模数据的处理，特别适用于科学计算和数据分析。\n",
    "\n",
    "2. **机器学习**：\n",
    "   在机器学习中，NumPy 用于数据预处理、特征工程、计算模型的损失函数、梯度下降优化等任务。\n",
    "\n",
    "3. **数值计算**：\n",
    "   NumPy 可以用于解决线性代数问题、最优化问题、数值积分等。\n",
    "\n",
    "4. **信号与图像处理**：\n",
    "   NumPy 提供的数学函数和数组操作可用于信号处理、图像变换、滤波等应用。\n",
    "\n",
    "### 总结\n",
    "\n",
    "NumPy 是一个强大的工具，提供了高效的数组操作和大量数学函数，使得 Python 在处理科学计算、数据分析、机器学习等领域更加高效和便捷。"
   ],
   "id": "1b8ecf06679448b5"
  }
 ],
 "metadata": {
  "kernelspec": {
   "display_name": "Python 3",
   "language": "python",
   "name": "python3"
  },
  "language_info": {
   "codemirror_mode": {
    "name": "ipython",
    "version": 2
   },
   "file_extension": ".py",
   "mimetype": "text/x-python",
   "name": "python",
   "nbconvert_exporter": "python",
   "pygments_lexer": "ipython2",
   "version": "2.7.6"
  }
 },
 "nbformat": 4,
 "nbformat_minor": 5
}
