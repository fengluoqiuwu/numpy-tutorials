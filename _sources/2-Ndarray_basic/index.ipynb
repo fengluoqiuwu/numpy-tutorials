{
 "cells": [
  {
   "metadata": {},
   "cell_type": "markdown",
   "source": [
    "# Ndarray 基础\n",
    "\n",
    "在本节中，我将介绍`ndarray`的基础内容。其中Part 1为基础部分，剩下为提升部分。\n",
    "\n"
   ],
   "id": "9ebb07b5d5cf096e"
  },
  {
   "metadata": {
    "ExecuteTime": {
     "end_time": "2024-11-11T03:00:34.468097Z",
     "start_time": "2024-11-11T03:00:32.357222Z"
    }
   },
   "cell_type": "code",
   "source": "%run init.py  # 加载数据",
   "id": "3aae643f3370c05f",
   "outputs": [],
   "execution_count": 3
  }
 ],
 "metadata": {
  "kernelspec": {
   "display_name": "Python 3",
   "language": "python",
   "name": "python3"
  },
  "language_info": {
   "codemirror_mode": {
    "name": "ipython",
    "version": 2
   },
   "file_extension": ".py",
   "mimetype": "text/x-python",
   "name": "python",
   "nbconvert_exporter": "python",
   "pygments_lexer": "ipython2",
   "version": "2.7.6"
  }
 },
 "nbformat": 4,
 "nbformat_minor": 5
}
