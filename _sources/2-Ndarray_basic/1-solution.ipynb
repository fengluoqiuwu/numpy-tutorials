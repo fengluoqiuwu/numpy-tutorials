{
 "cells": [
  {
   "metadata": {},
   "cell_type": "markdown",
   "source": [
    "# 习题解答2.1 ndarray 快速入门\n",
    "\n",
    "这里是2.1节的习题。我们先在这里`import`所有需要用到的库。"
   ],
   "id": "5bd4396d04c9c4b0"
  },
  {
   "metadata": {
    "ExecuteTime": {
     "end_time": "2024-11-11T04:12:24.411966Z",
     "start_time": "2024-11-11T04:12:24.406430Z"
    }
   },
   "cell_type": "code",
   "source": [
    "import numpy as np\n",
    "import pandas as pd\n",
    "\n",
    "arr1 = np.load(\"data/1-task-arr1.npy\")\n",
    "arr2 = np.load(\"data/1-task-arr2.npy\")\n",
    "\n",
    "iris_df = pd.read_csv(\"data/iris.csv\")"
   ],
   "id": "a0600598c82d6b9d",
   "outputs": [],
   "execution_count": 126
  },
  {
   "metadata": {},
   "cell_type": "markdown",
   "source": "## 基础练习",
   "id": "a9ac5c9aa24d5b60"
  },
  {
   "metadata": {},
   "cell_type": "markdown",
   "source": "1. 请创建形状为`(3, 4, 5)`的全0，全1，全2 数组.",
   "id": "1f49350765bfaaba"
  },
  {
   "metadata": {
    "ExecuteTime": {
     "end_time": "2024-11-11T04:12:24.422344Z",
     "start_time": "2024-11-11T04:12:24.416771Z"
    }
   },
   "cell_type": "code",
   "source": [
    "shape = (3, 4, 5)\n",
    "arr_0 = np.zeros(shape)   # 全0 数组\n",
    "arr_1 = np.ones(shape)    # 全1 数组\n",
    "arr_2 = np.full(shape, 2) # 全2 数组"
   ],
   "id": "fa5ae79f192d59d3",
   "outputs": [],
   "execution_count": 127
  },
  {
   "metadata": {},
   "cell_type": "markdown",
   "source": "2. 请创建长度为16的一维数组，其中数据为 24,22,20,18...,-6.",
   "id": "dac02f79e7eb0caa"
  },
  {
   "metadata": {
    "ExecuteTime": {
     "end_time": "2024-11-11T04:12:24.437709Z",
     "start_time": "2024-11-11T04:12:24.432409Z"
    }
   },
   "cell_type": "code",
   "source": [
    "arr = np.arange(24, -8, -2)\n",
    "arr"
   ],
   "id": "46924a03b2a7348",
   "outputs": [
    {
     "data": {
      "text/plain": [
       "array([24, 22, 20, 18, 16, 14, 12, 10,  8,  6,  4,  2,  0, -2, -4, -6])"
      ]
     },
     "execution_count": 128,
     "metadata": {},
     "output_type": "execute_result"
    }
   ],
   "execution_count": 128
  },
  {
   "metadata": {},
   "cell_type": "markdown",
   "source": "3. 请获取数组`arr1`的维度、形状与数据类型.",
   "id": "45e86534ebbda6db"
  },
  {
   "metadata": {
    "ExecuteTime": {
     "end_time": "2024-11-11T04:12:24.468277Z",
     "start_time": "2024-11-11T04:12:24.451489Z"
    }
   },
   "cell_type": "code",
   "source": [
    "print(\"维度:\", arr1.ndim)\n",
    "print(\"形状:\", arr1.shape)\n",
    "print(\"数据类型:\", arr1.dtype)"
   ],
   "id": "a48d255bc195a8e0",
   "outputs": [
    {
     "name": "stdout",
     "output_type": "stream",
     "text": [
      "维度: 5\n",
      "形状: (1, 2, 3, 4, 5)\n",
      "数据类型: datetime64[s]\n"
     ]
    }
   ],
   "execution_count": 129
  },
  {
   "metadata": {},
   "cell_type": "markdown",
   "source": "4. 请获取`arr2`的简略字符串与详细字符串表示.",
   "id": "f1560f7ed2b0b2ee"
  },
  {
   "metadata": {
    "ExecuteTime": {
     "end_time": "2024-11-11T04:12:24.481448Z",
     "start_time": "2024-11-11T04:12:24.477256Z"
    }
   },
   "cell_type": "code",
   "source": [
    "print(\"简略字符串:\", str(arr2))\n",
    "print(\"详细字符串:\\n\", repr(arr2))"
   ],
   "id": "1a6795ff95b31f4",
   "outputs": [
    {
     "name": "stdout",
     "output_type": "stream",
     "text": [
      "简略字符串: [[1. 2. 3.]\n",
      " [4. 5. 6.]]\n",
      "详细字符串:\n",
      " array([[1., 2., 3.],\n",
      "       [4., 5., 6.]])\n"
     ]
    }
   ],
   "execution_count": 130
  },
  {
   "metadata": {},
   "cell_type": "markdown",
   "source": "5. 请计算将`arr2`中的每个元素加100的平方根后的数组, 并求出它的最大值、均值与标准差.",
   "id": "f5af7d27ce5192c0"
  },
  {
   "metadata": {
    "ExecuteTime": {
     "end_time": "2024-11-11T04:12:24.520458Z",
     "start_time": "2024-11-11T04:12:24.514757Z"
    }
   },
   "cell_type": "code",
   "source": [
    "arr = np.sqrt(arr2 + 100)\n",
    "print(\"最大值:\", np.max(arr))\n",
    "print(\"均值:\", np.mean(arr))\n",
    "print(\"标准差:\", np.std(arr))\n",
    "arr"
   ],
   "id": "da87495482ce0224",
   "outputs": [
    {
     "name": "stdout",
     "output_type": "stream",
     "text": [
      "最大值: 10.295630140987\n",
      "均值: 10.173148676451225\n",
      "标准差: 0.08394049570182746\n"
     ]
    },
    {
     "data": {
      "text/plain": [
       "array([[10.04987562, 10.09950494, 10.14889157],\n",
       "       [10.19803903, 10.24695077, 10.29563014]])"
      ]
     },
     "execution_count": 131,
     "metadata": {},
     "output_type": "execute_result"
    }
   ],
   "execution_count": 131
  },
  {
   "metadata": {},
   "cell_type": "markdown",
   "source": "6. 请遍历`arr2`中的所有元素并存储到一个集合`set`中.",
   "id": "ca6fab8daa5ce68d"
  },
  {
   "metadata": {
    "ExecuteTime": {
     "end_time": "2024-11-11T04:12:24.549099Z",
     "start_time": "2024-11-11T04:12:24.545894Z"
    }
   },
   "cell_type": "code",
   "source": [
    "result = set()\n",
    "for i in arr2.flat:\n",
    "    result.add(i)\n",
    "result"
   ],
   "id": "b8938d840584bbc4",
   "outputs": [
    {
     "data": {
      "text/plain": [
       "{np.float64(1.0),\n",
       " np.float64(2.0),\n",
       " np.float64(3.0),\n",
       " np.float64(4.0),\n",
       " np.float64(5.0),\n",
       " np.float64(6.0)}"
      ]
     },
     "execution_count": 132,
     "metadata": {},
     "output_type": "execute_result"
    }
   ],
   "execution_count": 132
  },
  {
   "metadata": {},
   "cell_type": "markdown",
   "source": "7. 请获取一个数值为1 ~ 9 ,形状为 (3, 3)的数组，将其存储至`arr3`中.",
   "id": "32b7ebcce7551e33"
  },
  {
   "metadata": {
    "ExecuteTime": {
     "end_time": "2024-11-11T04:12:24.628497Z",
     "start_time": "2024-11-11T04:12:24.624785Z"
    }
   },
   "cell_type": "code",
   "source": [
    "arr3 = np.arange(1,10).reshape(3,3)\n",
    "arr3"
   ],
   "id": "a13f484c2809a7cf",
   "outputs": [
    {
     "data": {
      "text/plain": [
       "array([[1, 2, 3],\n",
       "       [4, 5, 6],\n",
       "       [7, 8, 9]])"
      ]
     },
     "execution_count": 133,
     "metadata": {},
     "output_type": "execute_result"
    }
   ],
   "execution_count": 133
  },
  {
   "metadata": {},
   "cell_type": "markdown",
   "source": "8. 请计算`arr2`与`arr3`在第一个轴上的堆叠，`arr2`在`arr3`之前.",
   "id": "b49ce2d248f7dfa8"
  },
  {
   "metadata": {
    "ExecuteTime": {
     "end_time": "2024-11-11T04:12:24.695001Z",
     "start_time": "2024-11-11T04:12:24.685748Z"
    }
   },
   "cell_type": "code",
   "source": "np.concatenate((arr2, arr3), axis=0)",
   "id": "f9f3a23191772315",
   "outputs": [
    {
     "data": {
      "text/plain": [
       "array([[1., 2., 3.],\n",
       "       [4., 5., 6.],\n",
       "       [1., 2., 3.],\n",
       "       [4., 5., 6.],\n",
       "       [7., 8., 9.]])"
      ]
     },
     "execution_count": 134,
     "metadata": {},
     "output_type": "execute_result"
    }
   ],
   "execution_count": 134
  },
  {
   "metadata": {},
   "cell_type": "markdown",
   "source": [
    "## 实战演练\n",
    "\n",
    "这里我们使用了经典的鸢尾花数据集（Iris Dataset）。已知数组`iris_arr`存储的是`iris_df`的特征，即其中第2-5列的数据(按照顺序)，数组`iris_index`存储的是这四列的名称，`iris_target`存储的是目标特征，即`species`列中的数据。请完成下述问题。"
   ],
   "id": "e6d091d8947aa4ed"
  },
  {
   "metadata": {
    "ExecuteTime": {
     "end_time": "2024-11-11T04:12:24.802761Z",
     "start_time": "2024-11-11T04:12:24.796197Z"
    }
   },
   "cell_type": "code",
   "source": [
    "iris_arr = iris_df.to_numpy()[:,1:5].astype(np.float64)\n",
    "iris_index = iris_df.columns[1:5].to_list().copy()\n",
    "iris_target = iris_df.to_numpy()[:, 5].copy()\n",
    "iris_df.head()"
   ],
   "id": "9461c9566b6f6136",
   "outputs": [
    {
     "data": {
      "text/plain": [
       "   Unnamed: 0  sepal_length  sepal_width  petal_length  petal_width  \\\n",
       "0           0           5.1          3.5           1.4          0.2   \n",
       "1           1           4.9          3.0           1.4          0.2   \n",
       "2           2           4.7          3.2           1.3          0.2   \n",
       "3           3           4.6          3.1           1.5          0.2   \n",
       "4           4           5.0          3.6           1.4          0.2   \n",
       "\n",
       "       species  \n",
       "0  Iris-setosa  \n",
       "1  Iris-setosa  \n",
       "2  Iris-setosa  \n",
       "3  Iris-setosa  \n",
       "4  Iris-setosa  "
      ],
      "text/html": [
       "<div>\n",
       "<style scoped>\n",
       "    .dataframe tbody tr th:only-of-type {\n",
       "        vertical-align: middle;\n",
       "    }\n",
       "\n",
       "    .dataframe tbody tr th {\n",
       "        vertical-align: top;\n",
       "    }\n",
       "\n",
       "    .dataframe thead th {\n",
       "        text-align: right;\n",
       "    }\n",
       "</style>\n",
       "<table border=\"1\" class=\"dataframe\">\n",
       "  <thead>\n",
       "    <tr style=\"text-align: right;\">\n",
       "      <th></th>\n",
       "      <th>Unnamed: 0</th>\n",
       "      <th>sepal_length</th>\n",
       "      <th>sepal_width</th>\n",
       "      <th>petal_length</th>\n",
       "      <th>petal_width</th>\n",
       "      <th>species</th>\n",
       "    </tr>\n",
       "  </thead>\n",
       "  <tbody>\n",
       "    <tr>\n",
       "      <th>0</th>\n",
       "      <td>0</td>\n",
       "      <td>5.1</td>\n",
       "      <td>3.5</td>\n",
       "      <td>1.4</td>\n",
       "      <td>0.2</td>\n",
       "      <td>Iris-setosa</td>\n",
       "    </tr>\n",
       "    <tr>\n",
       "      <th>1</th>\n",
       "      <td>1</td>\n",
       "      <td>4.9</td>\n",
       "      <td>3.0</td>\n",
       "      <td>1.4</td>\n",
       "      <td>0.2</td>\n",
       "      <td>Iris-setosa</td>\n",
       "    </tr>\n",
       "    <tr>\n",
       "      <th>2</th>\n",
       "      <td>2</td>\n",
       "      <td>4.7</td>\n",
       "      <td>3.2</td>\n",
       "      <td>1.3</td>\n",
       "      <td>0.2</td>\n",
       "      <td>Iris-setosa</td>\n",
       "    </tr>\n",
       "    <tr>\n",
       "      <th>3</th>\n",
       "      <td>3</td>\n",
       "      <td>4.6</td>\n",
       "      <td>3.1</td>\n",
       "      <td>1.5</td>\n",
       "      <td>0.2</td>\n",
       "      <td>Iris-setosa</td>\n",
       "    </tr>\n",
       "    <tr>\n",
       "      <th>4</th>\n",
       "      <td>4</td>\n",
       "      <td>5.0</td>\n",
       "      <td>3.6</td>\n",
       "      <td>1.4</td>\n",
       "      <td>0.2</td>\n",
       "      <td>Iris-setosa</td>\n",
       "    </tr>\n",
       "  </tbody>\n",
       "</table>\n",
       "</div>"
      ]
     },
     "execution_count": 135,
     "metadata": {},
     "output_type": "execute_result"
    }
   ],
   "execution_count": 135
  },
  {
   "metadata": {},
   "cell_type": "markdown",
   "source": "1. 请计算每个特征的均值和方差",
   "id": "82869844a7a3310b"
  },
  {
   "metadata": {
    "ExecuteTime": {
     "end_time": "2024-11-11T04:12:24.907782Z",
     "start_time": "2024-11-11T04:12:24.904439Z"
    }
   },
   "cell_type": "code",
   "source": [
    "means = np.mean(iris_arr, axis=0)\n",
    "variances = np.var(iris_arr, axis=0)\n",
    "\n",
    "for col_name, mean, variance in zip(iris_index, means, variances):\n",
    "    print(f\"特征{col_name}的均值为:\", mean)\n",
    "    print(f\"特征{col_name}的方差为:\", variance)"
   ],
   "id": "6487127ac2ee7f7",
   "outputs": [
    {
     "name": "stdout",
     "output_type": "stream",
     "text": [
      "特征sepal_length的均值为: 5.843333333333334\n",
      "特征sepal_length的方差为: 0.6811222222222223\n",
      "特征sepal_width的均值为: 3.0540000000000003\n",
      "特征sepal_width的方差为: 0.18675066666666668\n",
      "特征petal_length的均值为: 3.758666666666666\n",
      "特征petal_length的方差为: 3.092424888888889\n",
      "特征petal_width的均值为: 1.1986666666666668\n",
      "特征petal_width的方差为: 0.5785315555555555\n"
     ]
    }
   ],
   "execution_count": 136
  },
  {
   "metadata": {},
   "cell_type": "markdown",
   "source": "2. 请将`iris`数据标准化（均值为0，方差为1）",
   "id": "eb96d2fdcc3b0feb"
  },
  {
   "metadata": {
    "ExecuteTime": {
     "end_time": "2024-11-11T04:12:25.033844Z",
     "start_time": "2024-11-11T04:12:25.027492Z"
    }
   },
   "cell_type": "code",
   "source": [
    "iris_arr = (iris_arr - means) / np.sqrt(variances)\n",
    "iris_df.iloc[:, 1:5] = iris_arr\n",
    "iris_df.head()"
   ],
   "id": "9b979dc3cc3134f5",
   "outputs": [
    {
     "data": {
      "text/plain": [
       "   Unnamed: 0  sepal_length  sepal_width  petal_length  petal_width  \\\n",
       "0           0     -0.900681     1.032057     -1.341272    -1.312977   \n",
       "1           1     -1.143017    -0.124958     -1.341272    -1.312977   \n",
       "2           2     -1.385353     0.337848     -1.398138    -1.312977   \n",
       "3           3     -1.506521     0.106445     -1.284407    -1.312977   \n",
       "4           4     -1.021849     1.263460     -1.341272    -1.312977   \n",
       "\n",
       "       species  \n",
       "0  Iris-setosa  \n",
       "1  Iris-setosa  \n",
       "2  Iris-setosa  \n",
       "3  Iris-setosa  \n",
       "4  Iris-setosa  "
      ],
      "text/html": [
       "<div>\n",
       "<style scoped>\n",
       "    .dataframe tbody tr th:only-of-type {\n",
       "        vertical-align: middle;\n",
       "    }\n",
       "\n",
       "    .dataframe tbody tr th {\n",
       "        vertical-align: top;\n",
       "    }\n",
       "\n",
       "    .dataframe thead th {\n",
       "        text-align: right;\n",
       "    }\n",
       "</style>\n",
       "<table border=\"1\" class=\"dataframe\">\n",
       "  <thead>\n",
       "    <tr style=\"text-align: right;\">\n",
       "      <th></th>\n",
       "      <th>Unnamed: 0</th>\n",
       "      <th>sepal_length</th>\n",
       "      <th>sepal_width</th>\n",
       "      <th>petal_length</th>\n",
       "      <th>petal_width</th>\n",
       "      <th>species</th>\n",
       "    </tr>\n",
       "  </thead>\n",
       "  <tbody>\n",
       "    <tr>\n",
       "      <th>0</th>\n",
       "      <td>0</td>\n",
       "      <td>-0.900681</td>\n",
       "      <td>1.032057</td>\n",
       "      <td>-1.341272</td>\n",
       "      <td>-1.312977</td>\n",
       "      <td>Iris-setosa</td>\n",
       "    </tr>\n",
       "    <tr>\n",
       "      <th>1</th>\n",
       "      <td>1</td>\n",
       "      <td>-1.143017</td>\n",
       "      <td>-0.124958</td>\n",
       "      <td>-1.341272</td>\n",
       "      <td>-1.312977</td>\n",
       "      <td>Iris-setosa</td>\n",
       "    </tr>\n",
       "    <tr>\n",
       "      <th>2</th>\n",
       "      <td>2</td>\n",
       "      <td>-1.385353</td>\n",
       "      <td>0.337848</td>\n",
       "      <td>-1.398138</td>\n",
       "      <td>-1.312977</td>\n",
       "      <td>Iris-setosa</td>\n",
       "    </tr>\n",
       "    <tr>\n",
       "      <th>3</th>\n",
       "      <td>3</td>\n",
       "      <td>-1.506521</td>\n",
       "      <td>0.106445</td>\n",
       "      <td>-1.284407</td>\n",
       "      <td>-1.312977</td>\n",
       "      <td>Iris-setosa</td>\n",
       "    </tr>\n",
       "    <tr>\n",
       "      <th>4</th>\n",
       "      <td>4</td>\n",
       "      <td>-1.021849</td>\n",
       "      <td>1.263460</td>\n",
       "      <td>-1.341272</td>\n",
       "      <td>-1.312977</td>\n",
       "      <td>Iris-setosa</td>\n",
       "    </tr>\n",
       "  </tbody>\n",
       "</table>\n",
       "</div>"
      ]
     },
     "execution_count": 137,
     "metadata": {},
     "output_type": "execute_result"
    }
   ],
   "execution_count": 137
  },
  {
   "metadata": {},
   "cell_type": "markdown",
   "source": "3. 请计算每个类别的平均特征值",
   "id": "67808122df12780a"
  },
  {
   "metadata": {
    "ExecuteTime": {
     "end_time": "2024-11-11T04:12:25.082759Z",
     "start_time": "2024-11-11T04:12:25.077274Z"
    }
   },
   "cell_type": "code",
   "source": [
    "unique_classes = np.unique(iris_target)\n",
    "class_means = {}\n",
    "\n",
    "for cls in unique_classes:\n",
    "    class_data = iris_arr[iris_target == cls]\n",
    "    class_means[cls] = np.mean(class_data, axis=0)\n",
    "\n",
    "print(\"每个类别的平均特征值:\")\n",
    "for class_name, mean_values in class_means.items():\n",
    "    print(f\"{class_name}: {mean_values}\")"
   ],
   "id": "337978022030e7c9",
   "outputs": [
    {
     "name": "stdout",
     "output_type": "stream",
     "text": [
      "每个类别的平均特征值:\n",
      "Iris-setosa: [-1.01457897  0.84230679 -1.30487835 -1.25512862]\n",
      "Iris-versicolor: [ 0.11228223 -0.65718442  0.28508673  0.16740892]\n",
      "Iris-virginica: [ 0.90229674 -0.18512237  1.01979162  1.08771971]\n"
     ]
    }
   ],
   "execution_count": 138
  }
 ],
 "metadata": {
  "kernelspec": {
   "display_name": "Python 3",
   "language": "python",
   "name": "python3"
  },
  "language_info": {
   "codemirror_mode": {
    "name": "ipython",
    "version": 2
   },
   "file_extension": ".py",
   "mimetype": "text/x-python",
   "name": "python",
   "nbconvert_exporter": "python",
   "pygments_lexer": "ipython2",
   "version": "2.7.6"
  }
 },
 "nbformat": 4,
 "nbformat_minor": 5
}
