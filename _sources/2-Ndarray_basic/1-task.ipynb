{
 "cells": [
  {
   "metadata": {},
   "cell_type": "markdown",
   "source": [
    "# 习题2.1 ndarray 快速入门\n",
    "\n",
    "这里是2.1节的习题。我们先在这里`import`所有需要用到的库。"
   ],
   "id": "5bd4396d04c9c4b0"
  },
  {
   "metadata": {
    "ExecuteTime": {
     "end_time": "2024-11-11T04:12:42.599671Z",
     "start_time": "2024-11-11T04:12:42.592592Z"
    }
   },
   "cell_type": "code",
   "source": [
    "import numpy as np\n",
    "import pandas as pd\n",
    "\n",
    "arr1 = np.load(\"data/1-task-arr1.npy\")\n",
    "arr2 = np.load(\"data/1-task-arr2.npy\")\n",
    "\n",
    "iris_df = pd.read_csv(\"data/iris.csv\")"
   ],
   "id": "a0600598c82d6b9d",
   "outputs": [],
   "execution_count": 46
  },
  {
   "metadata": {},
   "cell_type": "markdown",
   "source": "## 基础练习",
   "id": "a9ac5c9aa24d5b60"
  },
  {
   "metadata": {},
   "cell_type": "markdown",
   "source": "1. 请创建形状为`(3, 4, 5)`的全0，全1，全2 数组.",
   "id": "1f49350765bfaaba"
  },
  {
   "metadata": {
    "ExecuteTime": {
     "end_time": "2024-11-11T04:12:42.612908Z",
     "start_time": "2024-11-11T04:12:42.602808Z"
    }
   },
   "cell_type": "code",
   "source": "# 请在这里输入你的代码",
   "id": "fa5ae79f192d59d3",
   "outputs": [],
   "execution_count": 47
  },
  {
   "metadata": {},
   "cell_type": "markdown",
   "source": "2. 请创建长度为16的一维数组，其中数据为 24,22,20,18...,-6.",
   "id": "dac02f79e7eb0caa"
  },
  {
   "metadata": {
    "ExecuteTime": {
     "end_time": "2024-11-11T04:12:42.623909Z",
     "start_time": "2024-11-11T04:12:42.621199Z"
    }
   },
   "cell_type": "code",
   "source": "# 请在这里输入你的代码",
   "id": "46924a03b2a7348",
   "outputs": [],
   "execution_count": 48
  },
  {
   "metadata": {},
   "cell_type": "markdown",
   "source": "3. 请获取数组`arr1`的维度、形状与类型.",
   "id": "45e86534ebbda6db"
  },
  {
   "metadata": {
    "ExecuteTime": {
     "end_time": "2024-11-11T04:12:42.637717Z",
     "start_time": "2024-11-11T04:12:42.635046Z"
    }
   },
   "cell_type": "code",
   "source": "# 请在这里输入你的代码",
   "id": "a48d255bc195a8e0",
   "outputs": [],
   "execution_count": 49
  },
  {
   "metadata": {},
   "cell_type": "markdown",
   "source": "4. 请获取`arr2`的简略字符串与详细字符串.",
   "id": "f1560f7ed2b0b2ee"
  },
  {
   "metadata": {
    "ExecuteTime": {
     "end_time": "2024-11-11T04:12:42.647444Z",
     "start_time": "2024-11-11T04:12:42.644756Z"
    }
   },
   "cell_type": "code",
   "source": "# 请在这里输入你的代码",
   "id": "1a6795ff95b31f4",
   "outputs": [],
   "execution_count": 50
  },
  {
   "metadata": {},
   "cell_type": "markdown",
   "source": "5. 请计算将`arr2`中的每个元素加100的平方根后的数组, 并求出它的最大值、均值与标准差.",
   "id": "f5af7d27ce5192c0"
  },
  {
   "metadata": {
    "ExecuteTime": {
     "end_time": "2024-11-11T04:12:42.660491Z",
     "start_time": "2024-11-11T04:12:42.657500Z"
    }
   },
   "cell_type": "code",
   "source": "# 请在这里输入你的代码",
   "id": "da87495482ce0224",
   "outputs": [],
   "execution_count": 51
  },
  {
   "metadata": {},
   "cell_type": "markdown",
   "source": "6. 请遍历`arr2`中的所有元素并存储到一个集合`set`中.",
   "id": "ca6fab8daa5ce68d"
  },
  {
   "metadata": {
    "ExecuteTime": {
     "end_time": "2024-11-11T04:12:42.670337Z",
     "start_time": "2024-11-11T04:12:42.667451Z"
    }
   },
   "cell_type": "code",
   "source": "# 请在这里输入你的代码",
   "id": "b8938d840584bbc4",
   "outputs": [],
   "execution_count": 52
  },
  {
   "metadata": {},
   "cell_type": "markdown",
   "source": "7. 请获取一个数值为1 ~ 9 ,形状为 (3, 3)的数组，将其存储至`arr3`中.",
   "id": "32b7ebcce7551e33"
  },
  {
   "metadata": {
    "ExecuteTime": {
     "end_time": "2024-11-11T04:12:42.680749Z",
     "start_time": "2024-11-11T04:12:42.677651Z"
    }
   },
   "cell_type": "code",
   "source": "# 请在这里输入你的代码",
   "id": "a13f484c2809a7cf",
   "outputs": [],
   "execution_count": 53
  },
  {
   "metadata": {},
   "cell_type": "markdown",
   "source": "8. 请计算`arr2`与`arr3`在第一个轴上的堆叠，`arr2`在`arr3`之前.",
   "id": "b49ce2d248f7dfa8"
  },
  {
   "metadata": {
    "ExecuteTime": {
     "end_time": "2024-11-11T04:12:42.690243Z",
     "start_time": "2024-11-11T04:12:42.687793Z"
    }
   },
   "cell_type": "code",
   "source": "# 请在这里输入你的代码",
   "id": "f9f3a23191772315",
   "outputs": [],
   "execution_count": 54
  },
  {
   "metadata": {},
   "cell_type": "markdown",
   "source": [
    "## 实战演练\n",
    "\n",
    "这里我们使用了经典的鸢尾花数据集（Iris Dataset）。已知数组`iris_arr`存储的是`iris_df`的特征，即其中第2-5列的数据(按照顺序)，数组`iris_index`存储的是这四列的名称，`iris_target`存储的是目标特征，即`species`列中的数据。请完成下述问题。"
   ],
   "id": "e6d091d8947aa4ed"
  },
  {
   "metadata": {
    "ExecuteTime": {
     "end_time": "2024-11-11T04:12:42.705089Z",
     "start_time": "2024-11-11T04:12:42.697306Z"
    }
   },
   "cell_type": "code",
   "source": [
    "iris_arr = iris_df.to_numpy()[:,1:5]\n",
    "iris_index = iris_df.columns[1:5].to_list().copy()\n",
    "iris_target = iris_df.to_numpy()[:, 5].copy()\n",
    "iris_df.head()"
   ],
   "id": "9461c9566b6f6136",
   "outputs": [
    {
     "data": {
      "text/plain": [
       "   Unnamed: 0  sepal_length  sepal_width  petal_length  petal_width  \\\n",
       "0           0           5.1          3.5           1.4          0.2   \n",
       "1           1           4.9          3.0           1.4          0.2   \n",
       "2           2           4.7          3.2           1.3          0.2   \n",
       "3           3           4.6          3.1           1.5          0.2   \n",
       "4           4           5.0          3.6           1.4          0.2   \n",
       "\n",
       "       species  \n",
       "0  Iris-setosa  \n",
       "1  Iris-setosa  \n",
       "2  Iris-setosa  \n",
       "3  Iris-setosa  \n",
       "4  Iris-setosa  "
      ],
      "text/html": [
       "<div>\n",
       "<style scoped>\n",
       "    .dataframe tbody tr th:only-of-type {\n",
       "        vertical-align: middle;\n",
       "    }\n",
       "\n",
       "    .dataframe tbody tr th {\n",
       "        vertical-align: top;\n",
       "    }\n",
       "\n",
       "    .dataframe thead th {\n",
       "        text-align: right;\n",
       "    }\n",
       "</style>\n",
       "<table border=\"1\" class=\"dataframe\">\n",
       "  <thead>\n",
       "    <tr style=\"text-align: right;\">\n",
       "      <th></th>\n",
       "      <th>Unnamed: 0</th>\n",
       "      <th>sepal_length</th>\n",
       "      <th>sepal_width</th>\n",
       "      <th>petal_length</th>\n",
       "      <th>petal_width</th>\n",
       "      <th>species</th>\n",
       "    </tr>\n",
       "  </thead>\n",
       "  <tbody>\n",
       "    <tr>\n",
       "      <th>0</th>\n",
       "      <td>0</td>\n",
       "      <td>5.1</td>\n",
       "      <td>3.5</td>\n",
       "      <td>1.4</td>\n",
       "      <td>0.2</td>\n",
       "      <td>Iris-setosa</td>\n",
       "    </tr>\n",
       "    <tr>\n",
       "      <th>1</th>\n",
       "      <td>1</td>\n",
       "      <td>4.9</td>\n",
       "      <td>3.0</td>\n",
       "      <td>1.4</td>\n",
       "      <td>0.2</td>\n",
       "      <td>Iris-setosa</td>\n",
       "    </tr>\n",
       "    <tr>\n",
       "      <th>2</th>\n",
       "      <td>2</td>\n",
       "      <td>4.7</td>\n",
       "      <td>3.2</td>\n",
       "      <td>1.3</td>\n",
       "      <td>0.2</td>\n",
       "      <td>Iris-setosa</td>\n",
       "    </tr>\n",
       "    <tr>\n",
       "      <th>3</th>\n",
       "      <td>3</td>\n",
       "      <td>4.6</td>\n",
       "      <td>3.1</td>\n",
       "      <td>1.5</td>\n",
       "      <td>0.2</td>\n",
       "      <td>Iris-setosa</td>\n",
       "    </tr>\n",
       "    <tr>\n",
       "      <th>4</th>\n",
       "      <td>4</td>\n",
       "      <td>5.0</td>\n",
       "      <td>3.6</td>\n",
       "      <td>1.4</td>\n",
       "      <td>0.2</td>\n",
       "      <td>Iris-setosa</td>\n",
       "    </tr>\n",
       "  </tbody>\n",
       "</table>\n",
       "</div>"
      ]
     },
     "execution_count": 55,
     "metadata": {},
     "output_type": "execute_result"
    }
   ],
   "execution_count": 55
  },
  {
   "metadata": {},
   "cell_type": "markdown",
   "source": "1. 请计算每个特征的均值和方差",
   "id": "82869844a7a3310b"
  },
  {
   "metadata": {
    "ExecuteTime": {
     "end_time": "2024-11-11T04:12:42.732071Z",
     "start_time": "2024-11-11T04:12:42.729079Z"
    }
   },
   "cell_type": "code",
   "source": "# 请在这里输入你的代码",
   "id": "6487127ac2ee7f7",
   "outputs": [],
   "execution_count": 56
  },
  {
   "metadata": {},
   "cell_type": "markdown",
   "source": "2. 请将`iris`数据标准化（均值为0，方差为1）",
   "id": "eb96d2fdcc3b0feb"
  },
  {
   "metadata": {
    "ExecuteTime": {
     "end_time": "2024-11-11T04:12:42.760884Z",
     "start_time": "2024-11-11T04:12:42.757695Z"
    }
   },
   "cell_type": "code",
   "source": "# 请在这里输入你的代码",
   "id": "9b979dc3cc3134f5",
   "outputs": [],
   "execution_count": 57
  },
  {
   "metadata": {},
   "cell_type": "markdown",
   "source": "3. 请计算每个类别的平均特征值",
   "id": "67808122df12780a"
  },
  {
   "metadata": {
    "ExecuteTime": {
     "end_time": "2024-11-11T04:12:42.774316Z",
     "start_time": "2024-11-11T04:12:42.765744Z"
    }
   },
   "cell_type": "code",
   "source": [
    "# 请在这里输入你的代码\n",
    "# 提示：可以通过np.unique(arr)获取所有不同的值"
   ],
   "id": "337978022030e7c9",
   "outputs": [],
   "execution_count": 58
  }
 ],
 "metadata": {
  "kernelspec": {
   "display_name": "Python 3",
   "language": "python",
   "name": "python3"
  },
  "language_info": {
   "codemirror_mode": {
    "name": "ipython",
    "version": 2
   },
   "file_extension": ".py",
   "mimetype": "text/x-python",
   "name": "python",
   "nbconvert_exporter": "python",
   "pygments_lexer": "ipython2",
   "version": "2.7.6"
  }
 },
 "nbformat": 4,
 "nbformat_minor": 5
}
