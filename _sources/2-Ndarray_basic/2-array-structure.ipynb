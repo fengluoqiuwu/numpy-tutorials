{
 "cells": [
  {
   "metadata": {},
   "cell_type": "markdown",
   "source": [
    "# Part 2. 数组内存结构\n",
    "\n",
    "在本节中，我将介绍 `ndarray` 的内存结构。\n",
    "\n",
    "**学习目标**\n",
    "\n",
    "\n",
    "在完成这一节的学习之后，你将会掌握:\n",
    "\n",
    "- 行主序(C 风格)和列主序(Fortran 风格)的区别\n",
    "- `ndarray`的内存结构"
   ],
   "id": "13c01a94651a2197"
  },
  {
   "metadata": {
    "ExecuteTime": {
     "end_time": "2025-01-28T08:36:55.270533Z",
     "start_time": "2025-01-28T08:36:55.266499Z"
    }
   },
   "cell_type": "code",
   "source": "import numpy as np",
   "id": "4b817fcbbc523466",
   "outputs": [],
   "execution_count": 35
  },
  {
   "metadata": {},
   "cell_type": "markdown",
   "source": "## 课程视频",
   "id": "9db9c6e61bea6b54"
  },
  {
   "metadata": {},
   "cell_type": "markdown",
   "source": "## `ndarray`的内存结构",
   "id": "24f2ee0202c83dd1"
  },
  {
   "metadata": {
    "ExecuteTime": {
     "end_time": "2025-01-28T08:36:55.292632Z",
     "start_time": "2025-01-28T08:36:55.288084Z"
    }
   },
   "cell_type": "code",
   "source": "arr = np.array([[1, 2, 3], [4, 5, 6], [7, 8, 9], [10, 11, 12]])",
   "id": "b29fddf94a8b21d5",
   "outputs": [],
   "execution_count": 36
  },
  {
   "metadata": {},
   "cell_type": "markdown",
   "source": "`ndarray`的一个实例由计算机内存中的一个连续的一维内存段（由数组本身或其他对象拥有）和一个索引方案组合而成。该索引方案将 N 个整数组成的索引数组映射到内存块中的某个位置，索引数组可以变化的范围由数组的形状(`shape`)属性定义，每个单位数据占用的字节数以及如何解释这些数据由数组的数据类型对象(`dtype`)属性定义。",
   "id": "ebab6eb6f5d2b338"
  },
  {
   "metadata": {
    "ExecuteTime": {
     "end_time": "2025-01-28T08:36:55.303397Z",
     "start_time": "2025-01-28T08:36:55.299638Z"
    }
   },
   "cell_type": "code",
   "source": "arr.shape",
   "id": "a8d49a6ea956a52c",
   "outputs": [
    {
     "data": {
      "text/plain": [
       "(4, 3)"
      ]
     },
     "execution_count": 37,
     "metadata": {},
     "output_type": "execute_result"
    }
   ],
   "execution_count": 37
  },
  {
   "metadata": {
    "ExecuteTime": {
     "end_time": "2025-01-28T08:36:55.326939Z",
     "start_time": "2025-01-28T08:36:55.323705Z"
    }
   },
   "cell_type": "code",
   "source": "arr.dtype",
   "id": "e84502f10b20a905",
   "outputs": [
    {
     "data": {
      "text/plain": [
       "dtype('int64')"
      ]
     },
     "execution_count": 38,
     "metadata": {},
     "output_type": "execute_result"
    }
   ],
   "execution_count": 38
  },
  {
   "metadata": {},
   "cell_type": "markdown",
   "source": [
    "`ndarray`的内存可以适应任何步长(stride)的索引方案，在该索引方案中，N 维索引数组对应于该   `ndarray`的内存段的偏移量(offset 以字节为单位)为：\n",
    "\n",
    "$$ n_{offset} = \\sum^{N-1}_{k=0}s_kn_k $$\n",
    "\n",
    "其中 $n = (n_0, n_1, ..., n_{N-1})$ 为索引数组， $s = (s_0, s_1, ..., s_{N-1})$为步长数组。"
   ],
   "id": "50aa26dd82a667d0"
  },
  {
   "metadata": {
    "ExecuteTime": {
     "end_time": "2025-01-28T08:36:55.350815Z",
     "start_time": "2025-01-28T08:36:55.347477Z"
    }
   },
   "cell_type": "code",
   "source": "arr.strides",
   "id": "38a15ef1f096a29d",
   "outputs": [
    {
     "data": {
      "text/plain": [
       "(24, 8)"
      ]
     },
     "execution_count": 39,
     "metadata": {},
     "output_type": "execute_result"
    }
   ],
   "execution_count": 39
  },
  {
   "metadata": {},
   "cell_type": "markdown",
   "source": [
    "列优先顺序(column-major order, 常在 Fortran 和 Matlab 中使用)和行优先顺序(row-major order, 常在 C 中使用) 只是步长方案的特定类型，他们对应于下述步长数组访问的内存：\n",
    "\n",
    " - 行优先顺序 (C 语言): $s_i = \\prod^{N-1}_{k=i+1}shape[k]$\n",
    " - 列优先顺序 (Fortran 语言): $s_i = \\prod^{j-1}_{k=0}shape[k]$\n",
    "\n",
    "其中 $shape[j]$ 是数组在第 j 个维度的长度。"
   ],
   "id": "4c2399daa882ffdf"
  },
  {
   "metadata": {
    "ExecuteTime": {
     "end_time": "2025-01-28T08:36:55.365089Z",
     "start_time": "2025-01-28T08:36:55.361243Z"
    }
   },
   "cell_type": "code",
   "source": "np.array(arr, order='C').strides",
   "id": "c89eb552b4165719",
   "outputs": [
    {
     "data": {
      "text/plain": [
       "(24, 8)"
      ]
     },
     "execution_count": 40,
     "metadata": {},
     "output_type": "execute_result"
    }
   ],
   "execution_count": 40
  },
  {
   "metadata": {
    "ExecuteTime": {
     "end_time": "2025-01-28T08:36:55.387591Z",
     "start_time": "2025-01-28T08:36:55.383651Z"
    }
   },
   "cell_type": "code",
   "source": "np.array(arr, order='F').strides",
   "id": "7d17e106facb645b",
   "outputs": [
    {
     "data": {
      "text/plain": [
       "(8, 32)"
      ]
     },
     "execution_count": 41,
     "metadata": {},
     "output_type": "execute_result"
    }
   ],
   "execution_count": 41
  },
  {
   "metadata": {},
   "cell_type": "markdown",
   "source": "## `ndarray`的内存相关属性",
   "id": "928b4adf3a9f7805"
  },
  {
   "metadata": {
    "ExecuteTime": {
     "end_time": "2025-01-28T08:36:55.474747Z",
     "start_time": "2025-01-28T08:36:55.470653Z"
    }
   },
   "cell_type": "code",
   "source": "arr",
   "id": "c7ff64fc6e341e9f",
   "outputs": [
    {
     "data": {
      "text/plain": [
       "array([[ 1,  2,  3],\n",
       "       [ 4,  5,  6],\n",
       "       [ 7,  8,  9],\n",
       "       [10, 11, 12]])"
      ]
     },
     "execution_count": 42,
     "metadata": {},
     "output_type": "execute_result"
    }
   ],
   "execution_count": 42
  },
  {
   "metadata": {},
   "cell_type": "markdown",
   "source": "一下属性包含有关数组内存布局的信息:",
   "id": "e381ff2c01f110f8"
  },
  {
   "metadata": {},
   "cell_type": "markdown",
   "source": " - `ndarray.flags`:有关数组内存布局的信息。",
   "id": "8554d38f81c379dc"
  },
  {
   "metadata": {
    "ExecuteTime": {
     "end_time": "2025-01-28T08:36:55.512535Z",
     "start_time": "2025-01-28T08:36:55.508172Z"
    }
   },
   "cell_type": "code",
   "source": "arr.flags",
   "id": "d18751db8b57096b",
   "outputs": [
    {
     "data": {
      "text/plain": [
       "  C_CONTIGUOUS : True\n",
       "  F_CONTIGUOUS : False\n",
       "  OWNDATA : True\n",
       "  WRITEABLE : True\n",
       "  ALIGNED : True\n",
       "  WRITEBACKIFCOPY : False"
      ]
     },
     "execution_count": 43,
     "metadata": {},
     "output_type": "execute_result"
    }
   ],
   "execution_count": 43
  },
  {
   "metadata": {},
   "cell_type": "markdown",
   "source": " - `ndarray.shape`:数组形状的元组。",
   "id": "b16dedbfeea968bf"
  },
  {
   "metadata": {
    "ExecuteTime": {
     "end_time": "2025-01-28T08:36:55.570426Z",
     "start_time": "2025-01-28T08:36:55.566737Z"
    }
   },
   "cell_type": "code",
   "source": "arr.shape",
   "id": "c83c7e9adfb9ee94",
   "outputs": [
    {
     "data": {
      "text/plain": [
       "(4, 3)"
      ]
     },
     "execution_count": 44,
     "metadata": {},
     "output_type": "execute_result"
    }
   ],
   "execution_count": 44
  },
  {
   "metadata": {},
   "cell_type": "markdown",
   "source": " - `ndarray.strides`:数组每个维度的步长元组。",
   "id": "121028d10e857156"
  },
  {
   "metadata": {
    "ExecuteTime": {
     "end_time": "2025-01-28T08:36:55.607834Z",
     "start_time": "2025-01-28T08:36:55.603405Z"
    }
   },
   "cell_type": "code",
   "source": "arr.strides",
   "id": "45edd5ee38dbe8a1",
   "outputs": [
    {
     "data": {
      "text/plain": [
       "(24, 8)"
      ]
     },
     "execution_count": 45,
     "metadata": {},
     "output_type": "execute_result"
    }
   ],
   "execution_count": 45
  },
  {
   "metadata": {},
   "cell_type": "markdown",
   "source": " - `ndarray.ndim`:数组的维数。",
   "id": "1582650e1b8708a3"
  },
  {
   "metadata": {
    "ExecuteTime": {
     "end_time": "2025-01-28T08:36:55.641727Z",
     "start_time": "2025-01-28T08:36:55.638423Z"
    }
   },
   "cell_type": "code",
   "source": "arr.ndim",
   "id": "8368b7946bfab78f",
   "outputs": [
    {
     "data": {
      "text/plain": [
       "2"
      ]
     },
     "execution_count": 46,
     "metadata": {},
     "output_type": "execute_result"
    }
   ],
   "execution_count": 46
  },
  {
   "metadata": {},
   "cell_type": "markdown",
   "source": " - `ndarray.data`:指向数组内存块开头的 Python 缓冲区对象。",
   "id": "79d85959957f58f2"
  },
  {
   "metadata": {
    "ExecuteTime": {
     "end_time": "2025-01-28T08:36:55.666440Z",
     "start_time": "2025-01-28T08:36:55.662139Z"
    }
   },
   "cell_type": "code",
   "source": "arr.data",
   "id": "26789392ff807e7f",
   "outputs": [
    {
     "data": {
      "text/plain": [
       "<memory at 0x000002D6E7E87510>"
      ]
     },
     "execution_count": 47,
     "metadata": {},
     "output_type": "execute_result"
    }
   ],
   "execution_count": 47
  },
  {
   "metadata": {},
   "cell_type": "markdown",
   "source": " - `ndarray.size`:数组中元素的数量。",
   "id": "cc40ed7f154018b0"
  },
  {
   "metadata": {
    "ExecuteTime": {
     "end_time": "2025-01-28T08:36:55.697283Z",
     "start_time": "2025-01-28T08:36:55.693694Z"
    }
   },
   "cell_type": "code",
   "source": "arr.size",
   "id": "1a2e3594d79bdb3a",
   "outputs": [
    {
     "data": {
      "text/plain": [
       "12"
      ]
     },
     "execution_count": 48,
     "metadata": {},
     "output_type": "execute_result"
    }
   ],
   "execution_count": 48
  },
  {
   "metadata": {},
   "cell_type": "markdown",
   "source": " - `ndarray.itemsize`:一个数组元素的大小(byte)。",
   "id": "853530ae6102c792"
  },
  {
   "metadata": {
    "ExecuteTime": {
     "end_time": "2025-01-28T08:36:55.727480Z",
     "start_time": "2025-01-28T08:36:55.723412Z"
    }
   },
   "cell_type": "code",
   "source": "arr.itemsize",
   "id": "519f59d54452e5f3",
   "outputs": [
    {
     "data": {
      "text/plain": [
       "8"
      ]
     },
     "execution_count": 49,
     "metadata": {},
     "output_type": "execute_result"
    }
   ],
   "execution_count": 49
  },
  {
   "metadata": {},
   "cell_type": "markdown",
   "source": " - `ndarray.nbytes`:数组占用内存的总字节数。",
   "id": "e9084c14521c5fa0"
  },
  {
   "metadata": {
    "ExecuteTime": {
     "end_time": "2025-01-28T08:36:55.814400Z",
     "start_time": "2025-01-28T08:36:55.809988Z"
    }
   },
   "cell_type": "code",
   "source": "arr.nbytes",
   "id": "538876cba4b71b8f",
   "outputs": [
    {
     "data": {
      "text/plain": [
       "96"
      ]
     },
     "execution_count": 50,
     "metadata": {},
     "output_type": "execute_result"
    }
   ],
   "execution_count": 50
  },
  {
   "metadata": {},
   "cell_type": "markdown",
   "source": " - `ndarray.base`:如果内存来自其他对象，则为基对象。",
   "id": "b6172116c124694f"
  },
  {
   "metadata": {
    "ExecuteTime": {
     "end_time": "2025-01-28T08:36:55.909812Z",
     "start_time": "2025-01-28T08:36:55.905876Z"
    }
   },
   "cell_type": "code",
   "source": "repr(arr.base)",
   "id": "f23b8ebb6f598753",
   "outputs": [
    {
     "data": {
      "text/plain": [
       "'None'"
      ]
     },
     "execution_count": 51,
     "metadata": {},
     "output_type": "execute_result"
    }
   ],
   "execution_count": 51
  },
  {
   "metadata": {},
   "cell_type": "markdown",
   "source": " - `ndarray.dtype`:数组数据类型。",
   "id": "73a62fec97af34d4"
  },
  {
   "metadata": {
    "ExecuteTime": {
     "end_time": "2025-01-28T08:37:41.919233Z",
     "start_time": "2025-01-28T08:37:41.913339Z"
    }
   },
   "cell_type": "code",
   "source": "arr.dtype",
   "id": "5d4f33468c732ed3",
   "outputs": [
    {
     "data": {
      "text/plain": [
       "dtype('int64')"
      ]
     },
     "execution_count": 52,
     "metadata": {},
     "output_type": "execute_result"
    }
   ],
   "execution_count": 52
  }
 ],
 "metadata": {
  "kernelspec": {
   "display_name": "Python 3",
   "language": "python",
   "name": "python3"
  },
  "language_info": {
   "codemirror_mode": {
    "name": "ipython",
    "version": 2
   },
   "file_extension": ".py",
   "mimetype": "text/x-python",
   "name": "python",
   "nbconvert_exporter": "python",
   "pygments_lexer": "ipython2",
   "version": "2.7.6"
  }
 },
 "nbformat": 4,
 "nbformat_minor": 5
}
