{
 "cells": [
  {
   "metadata": {},
   "cell_type": "markdown",
   "source": [
    "# Part 1. ndarray 快速入门\n",
    "\n",
    "在本节中，我将介绍 `ndarray` 的入门知识。\n",
    "\n",
    "**学习目标**\n",
    "\n",
    "\n",
    "在完成这一节的学习之后，你将会掌握:\n",
    "\n",
    " - `ndarray` 的创建\n",
    " - `ndarray` 的轴和形状等属性\n",
    " - `ndarray` 打印与字符串转化\n",
    " - `ndarray` 的基本函数与运算\n",
    " - `ndarray` 的索引、切片和迭代器\n",
    " - `ndarray` 的引用、视图和拷贝"
   ],
   "id": "800fb07ed1d53124"
  },
  {
   "metadata": {
    "ExecuteTime": {
     "end_time": "2024-11-06T06:01:35.211891Z",
     "start_time": "2024-11-06T06:01:35.208907Z"
    }
   },
   "cell_type": "code",
   "source": "import numpy as np",
   "id": "caa20c9341aaa404",
   "outputs": [],
   "execution_count": 152
  },
  {
   "metadata": {},
   "cell_type": "markdown",
   "source": [
    "\n",
    "\n",
    "## 课程视频"
   ],
   "id": "430326c454f35060"
  },
  {
   "metadata": {},
   "cell_type": "markdown",
   "source": [
    "## `ndarray` 的创建\n",
    "\n",
    "`ndarray`有多种创建方式，这里只介绍较为常用的几种。\n",
    "\n",
    "### 通过数组类型转化\n",
    "\n",
    "我们可以通过 `array()` 把其他数组类型(`array_like`)转化成 Numpy 中的数组，即 `ndarray`。\n",
    "例如 Python 中的列表和元组，二者混合也是可以的。如果有多层的话，会将其转为高维数组。"
   ],
   "id": "3a6d0f20e9029c77"
  },
  {
   "metadata": {
    "ExecuteTime": {
     "end_time": "2024-11-06T06:01:35.241818Z",
     "start_time": "2024-11-06T06:01:35.238959Z"
    }
   },
   "cell_type": "code",
   "source": [
    "a = [[1, 2, 3], [4, 5, 6]]\n",
    "b = (1, 2, 3, 4, 5, 6)\n",
    "c = [(1, 2, 3), (4, 5, 6)]"
   ],
   "id": "ba550d68b6b77ee3",
   "outputs": [],
   "execution_count": 153
  },
  {
   "metadata": {
    "ExecuteTime": {
     "end_time": "2024-11-06T06:01:35.255734Z",
     "start_time": "2024-11-06T06:01:35.252336Z"
    }
   },
   "cell_type": "code",
   "source": "np.array(a)",
   "id": "c97743a4e6a57a67",
   "outputs": [
    {
     "data": {
      "text/plain": [
       "array([[1, 2, 3],\n",
       "       [4, 5, 6]])"
      ]
     },
     "execution_count": 154,
     "metadata": {},
     "output_type": "execute_result"
    }
   ],
   "execution_count": 154
  },
  {
   "metadata": {
    "ExecuteTime": {
     "end_time": "2024-11-06T06:01:35.279252Z",
     "start_time": "2024-11-06T06:01:35.275851Z"
    }
   },
   "cell_type": "code",
   "source": "np.array(b)",
   "id": "386f44fae998356e",
   "outputs": [
    {
     "data": {
      "text/plain": [
       "array([1, 2, 3, 4, 5, 6])"
      ]
     },
     "execution_count": 155,
     "metadata": {},
     "output_type": "execute_result"
    }
   ],
   "execution_count": 155
  },
  {
   "metadata": {
    "ExecuteTime": {
     "end_time": "2024-11-06T06:01:35.339723Z",
     "start_time": "2024-11-06T06:01:35.335161Z"
    }
   },
   "cell_type": "code",
   "source": "np.array(c)",
   "id": "4f702f0f18edf829",
   "outputs": [
    {
     "data": {
      "text/plain": [
       "array([[1, 2, 3],\n",
       "       [4, 5, 6]])"
      ]
     },
     "execution_count": 156,
     "metadata": {},
     "output_type": "execute_result"
    }
   ],
   "execution_count": 156
  },
  {
   "metadata": {},
   "cell_type": "markdown",
   "source": "这里有一个常用的错误是，这里的参数必须传入单个数组或者矢量，而不能传入多个值。错误示例：",
   "id": "d4417408049f572d"
  },
  {
   "metadata": {
    "ExecuteTime": {
     "end_time": "2024-11-06T06:01:39.462146Z",
     "start_time": "2024-11-06T06:01:39.450684Z"
    }
   },
   "cell_type": "code",
   "source": "np.array(1, 2, 3, 4, 5, 6)",
   "id": "9810c897a50c3e26",
   "outputs": [
    {
     "ename": "TypeError",
     "evalue": "array() takes from 1 to 2 positional arguments but 6 were given",
     "output_type": "error",
     "traceback": [
      "\u001B[1;31m---------------------------------------------------------------------------\u001B[0m",
      "\u001B[1;31mTypeError\u001B[0m                                 Traceback (most recent call last)",
      "Cell \u001B[1;32mIn[158], line 1\u001B[0m\n\u001B[1;32m----> 1\u001B[0m \u001B[43mnp\u001B[49m\u001B[38;5;241;43m.\u001B[39;49m\u001B[43marray\u001B[49m\u001B[43m(\u001B[49m\u001B[38;5;241;43m1\u001B[39;49m\u001B[43m,\u001B[49m\u001B[43m \u001B[49m\u001B[38;5;241;43m2\u001B[39;49m\u001B[43m,\u001B[49m\u001B[43m \u001B[49m\u001B[38;5;241;43m3\u001B[39;49m\u001B[43m,\u001B[49m\u001B[43m \u001B[49m\u001B[38;5;241;43m4\u001B[39;49m\u001B[43m,\u001B[49m\u001B[43m \u001B[49m\u001B[38;5;241;43m5\u001B[39;49m\u001B[43m,\u001B[49m\u001B[43m \u001B[49m\u001B[38;5;241;43m6\u001B[39;49m\u001B[43m)\u001B[49m\n",
      "\u001B[1;31mTypeError\u001B[0m: array() takes from 1 to 2 positional arguments but 6 were given"
     ]
    }
   ],
   "execution_count": 158
  },
  {
   "metadata": {},
   "cell_type": "markdown",
   "source": [
    "### 通过函数批量初始化\n",
    "\n",
    "在有些情况下，我们在初始化的时候并不知道想要初始化的值，或者想要将其初始化为某些特定的值。\n",
    "如果通过`for`循环遍历初始化显然有些太慢了，通过函数初始化则是一种更好的选择。"
   ],
   "id": "7482f9a616d1ee65"
  },
  {
   "metadata": {
    "ExecuteTime": {
     "end_time": "2024-11-06T06:01:42.700632Z",
     "start_time": "2024-11-06T06:01:42.697585Z"
    }
   },
   "cell_type": "code",
   "source": "np.zeros((3, 4))",
   "id": "58dde782786c0539",
   "outputs": [
    {
     "data": {
      "text/plain": [
       "array([[0., 0., 0., 0.],\n",
       "       [0., 0., 0., 0.],\n",
       "       [0., 0., 0., 0.]])"
      ]
     },
     "execution_count": 159,
     "metadata": {},
     "output_type": "execute_result"
    }
   ],
   "execution_count": 159
  },
  {
   "metadata": {
    "ExecuteTime": {
     "end_time": "2024-11-06T06:01:42.880241Z",
     "start_time": "2024-11-06T06:01:42.876458Z"
    }
   },
   "cell_type": "code",
   "source": "np.ones((2, 3))",
   "id": "f78022dcc464b5f8",
   "outputs": [
    {
     "data": {
      "text/plain": [
       "array([[1., 1., 1.],\n",
       "       [1., 1., 1.]])"
      ]
     },
     "execution_count": 160,
     "metadata": {},
     "output_type": "execute_result"
    }
   ],
   "execution_count": 160
  },
  {
   "metadata": {},
   "cell_type": "markdown",
   "source": "`np.zeros` 和 `np.ones` 用于将 `ndarray` 初始化为全`0`和全`1`数组，它接收一个一维元组表示各个维度数组的宽度，即数组在该维度下的元素数量。",
   "id": "760e7a5b4631063a"
  },
  {
   "metadata": {
    "ExecuteTime": {
     "end_time": "2024-11-06T06:01:43.199778Z",
     "start_time": "2024-11-06T06:01:43.195777Z"
    }
   },
   "cell_type": "code",
   "source": "np.full((3, 4), 5)",
   "id": "55768d1c2a6ce09e",
   "outputs": [
    {
     "data": {
      "text/plain": [
       "array([[5, 5, 5, 5],\n",
       "       [5, 5, 5, 5],\n",
       "       [5, 5, 5, 5]])"
      ]
     },
     "execution_count": 161,
     "metadata": {},
     "output_type": "execute_result"
    }
   ],
   "execution_count": 161
  },
  {
   "metadata": {},
   "cell_type": "markdown",
   "source": "`np.full`用于将`ndarray`初始化为全是``fill_value` 的数组，它接收两个参数，分别为表示数组形状的元组和初始化的填充值`fill_value`。",
   "id": "5c81f1700142fd03"
  },
  {
   "metadata": {
    "ExecuteTime": {
     "end_time": "2024-11-06T06:01:43.480999Z",
     "start_time": "2024-11-06T06:01:43.477138Z"
    }
   },
   "cell_type": "code",
   "source": "np.empty((1, 2))",
   "id": "abcddcedf656a7af",
   "outputs": [
    {
     "data": {
      "text/plain": [
       "array([[0.e+000, 5.e-324]])"
      ]
     },
     "execution_count": 162,
     "metadata": {},
     "output_type": "execute_result"
    }
   ],
   "execution_count": 162
  },
  {
   "metadata": {},
   "cell_type": "markdown",
   "source": "`np.empty`用于只知道形状的数组的初始化，它创建的数组的值是未知的。",
   "id": "f677010f8154934b"
  },
  {
   "metadata": {
    "ExecuteTime": {
     "end_time": "2024-11-06T06:01:43.761349Z",
     "start_time": "2024-11-06T06:01:43.758398Z"
    }
   },
   "cell_type": "code",
   "source": "np.arange(13)",
   "id": "3bb79ec0704be74d",
   "outputs": [
    {
     "data": {
      "text/plain": [
       "array([ 0,  1,  2,  3,  4,  5,  6,  7,  8,  9, 10, 11, 12])"
      ]
     },
     "execution_count": 163,
     "metadata": {},
     "output_type": "execute_result"
    }
   ],
   "execution_count": 163
  },
  {
   "metadata": {},
   "cell_type": "markdown",
   "source": "`np.arange`类似于 Python 中的`range`，它可以生成一个数字序列作为一维数组。",
   "id": "9a9d1672147eff0f"
  },
  {
   "metadata": {},
   "cell_type": "markdown",
   "source": [
    "## `ndarray`的属性\n",
    "\n",
    "`ndarray` 是 NumPy 中的核心数据结构，它有多个属性用于描述数组的基本特征。以下是一些常见的属性：\n",
    "\n",
    "- **`ndarray.ndim`**  \n",
    "  返回数组的维度数。对于一维数组，返回 `1`；对于二维数组，返回 `2`，依此类推。\n",
    "\n",
    "- **`ndarray.shape`**  \n",
    "  返回数组的形状，即数组各维度的大小。对于一个二维数组，它是一个包含行数和列数的元组 `(rows, cols)`。\n",
    "\n",
    "- **`ndarray.size`**  \n",
    "  返回数组的总元素数，即所有维度大小的乘积。\n",
    "\n",
    "- **`ndarray.dtype`**  \n",
    "  返回数组的数据类型（`dtype`）。例如，可以是 `int32`、`float64` 等。\n",
    "\n",
    "- **`ndarray.itemsize`**  \n",
    "  返回数组中每个元素的字节大小。它是 `dtype` 对应的数据类型在内存中占用的字节数。\n",
    "\n",
    "- **`ndarray.nbytes`**  \n",
    "  返回数组占用的总字节数。它等于 `itemsize * size`。"
   ],
   "id": "79288e3c398a549a"
  },
  {
   "metadata": {
    "ExecuteTime": {
     "end_time": "2024-11-06T06:01:44.187694Z",
     "start_time": "2024-11-06T06:01:44.183729Z"
    }
   },
   "cell_type": "code",
   "source": [
    "a = np.arange(24).reshape(2, 3, 4)\n",
    "a"
   ],
   "id": "684137d3a6dd69c7",
   "outputs": [
    {
     "data": {
      "text/plain": [
       "array([[[ 0,  1,  2,  3],\n",
       "        [ 4,  5,  6,  7],\n",
       "        [ 8,  9, 10, 11]],\n",
       "\n",
       "       [[12, 13, 14, 15],\n",
       "        [16, 17, 18, 19],\n",
       "        [20, 21, 22, 23]]])"
      ]
     },
     "execution_count": 164,
     "metadata": {},
     "output_type": "execute_result"
    }
   ],
   "execution_count": 164
  },
  {
   "metadata": {
    "ExecuteTime": {
     "end_time": "2024-11-06T06:01:44.334567Z",
     "start_time": "2024-11-06T06:01:44.331954Z"
    }
   },
   "cell_type": "code",
   "source": [
    "print(\"ndim:\", a.ndim)\n",
    "print(\"shape:\", a.shape)\n",
    "print(\"size:\", a.size)\n",
    "print(\"dtype:\", a.dtype)\n",
    "print(\"itemsize:\", a.itemsize)\n",
    "print(\"nbytes:\", a.nbytes)"
   ],
   "id": "59cd94b0afa8d627",
   "outputs": [
    {
     "name": "stdout",
     "output_type": "stream",
     "text": [
      "ndim: 3\n",
      "shape: (2, 3, 4)\n",
      "size: 24\n",
      "dtype: int64\n",
      "itemsize: 8\n",
      "nbytes: 192\n"
     ]
    }
   ],
   "execution_count": 165
  },
  {
   "metadata": {},
   "cell_type": "markdown",
   "source": "这些属性帮助我们了解和操作 NumPy 数组的基本特征和结构，是进行数据处理和分析时的重要工具。",
   "id": "460005a3d7cc6a49"
  },
  {
   "metadata": {},
   "cell_type": "markdown",
   "source": [
    "## `ndarray`的打印与字符串转化\n",
    "\n",
    "在 NumPy 中，`ndarray` 提供了多种方式进行打印和字符串转换，以便更好地展示数组的内容。\n",
    "\n",
    "- **打印 `ndarray`**  \n",
    "  使用 `print()` 函数可以直接打印 `ndarray` 对象。例如："
   ],
   "id": "e1c4b7d23e6474bc"
  },
  {
   "metadata": {
    "ExecuteTime": {
     "end_time": "2024-11-06T06:01:44.759276Z",
     "start_time": "2024-11-06T06:01:44.755770Z"
    }
   },
   "cell_type": "code",
   "source": "print(a)",
   "id": "8e4035795b457165",
   "outputs": [
    {
     "name": "stdout",
     "output_type": "stream",
     "text": [
      "[[[ 0  1  2  3]\n",
      "  [ 4  5  6  7]\n",
      "  [ 8  9 10 11]]\n",
      "\n",
      " [[12 13 14 15]\n",
      "  [16 17 18 19]\n",
      "  [20 21 22 23]]]\n"
     ]
    }
   ],
   "execution_count": 166
  },
  {
   "metadata": {},
   "cell_type": "markdown",
   "source": [
    "\n",
    "- **使用 `__str__` 或者 `__repr__`**"
   ],
   "id": "cd5cc3f9ff087075"
  },
  {
   "metadata": {
    "ExecuteTime": {
     "end_time": "2024-11-06T06:01:45.054844Z",
     "start_time": "2024-11-06T06:01:45.051456Z"
    }
   },
   "cell_type": "code",
   "source": [
    "print(\"str:\", str(a))\n",
    "print(\"repr:\", repr(a))"
   ],
   "id": "a79a7ceeb197a9a",
   "outputs": [
    {
     "name": "stdout",
     "output_type": "stream",
     "text": [
      "str: [[[ 0  1  2  3]\n",
      "  [ 4  5  6  7]\n",
      "  [ 8  9 10 11]]\n",
      "\n",
      " [[12 13 14 15]\n",
      "  [16 17 18 19]\n",
      "  [20 21 22 23]]]\n",
      "repr: array([[[ 0,  1,  2,  3],\n",
      "        [ 4,  5,  6,  7],\n",
      "        [ 8,  9, 10, 11]],\n",
      "\n",
      "       [[12, 13, 14, 15],\n",
      "        [16, 17, 18, 19],\n",
      "        [20, 21, 22, 23]]])\n"
     ]
    }
   ],
   "execution_count": 167
  },
  {
   "metadata": {},
   "cell_type": "markdown",
   "source": "## `ndarray` 的基本函数与运算",
   "id": "5fedea60200ee5b9"
  },
  {
   "metadata": {},
   "cell_type": "markdown",
   "source": [
    "NumPy 提供了多种内置函数和运算，便于对 `ndarray` 进行基本操作。以下是一些常见的函数和运算。\n",
    "\n",
    "#### 数组的基本运算\n",
    "\n",
    "- **加法、减法、乘法、除法**  \n",
    "  对 `ndarray` 进行数学运算非常简单，可以直接使用运算符进行加、减、乘、除等操作。"
   ],
   "id": "eb7563829f83c607"
  },
  {
   "metadata": {
    "ExecuteTime": {
     "end_time": "2024-11-06T06:01:45.499203Z",
     "start_time": "2024-11-06T06:01:45.495699Z"
    }
   },
   "cell_type": "code",
   "source": [
    "arr1 = np.array([1, 2, 3])\n",
    "arr2 = np.array([4, 5, 6])\n",
    "print(\"+:\", arr1 + arr2)  # 加法\n",
    "print(\"-:\", arr1 - arr2)  # 减法\n",
    "print(\"*:\", arr1 * arr2)  # 乘法\n",
    "print(\"/:\", arr1 / arr2)  # 除法"
   ],
   "id": "f930c222b1798bb9",
   "outputs": [
    {
     "name": "stdout",
     "output_type": "stream",
     "text": [
      "+: [5 7 9]\n",
      "-: [-3 -3 -3]\n",
      "*: [ 4 10 18]\n",
      "/: [0.25 0.4  0.5 ]\n"
     ]
    }
   ],
   "execution_count": 168
  },
  {
   "metadata": {},
   "cell_type": "markdown",
   "source": [
    "- **点积（Dot product）**  \n",
    "  使用 `np.dot()` 计算两个数组的点积，即对应元素相乘后求和。"
   ],
   "id": "dccaf77a0a6f585d"
  },
  {
   "metadata": {
    "ExecuteTime": {
     "end_time": "2024-11-06T06:01:45.790387Z",
     "start_time": "2024-11-06T06:01:45.786188Z"
    }
   },
   "cell_type": "code",
   "source": "np.dot(arr1, arr2)",
   "id": "49272792a8080da4",
   "outputs": [
    {
     "data": {
      "text/plain": [
       "np.int64(32)"
      ]
     },
     "execution_count": 169,
     "metadata": {},
     "output_type": "execute_result"
    }
   ],
   "execution_count": 169
  },
  {
   "metadata": {},
   "cell_type": "markdown",
   "source": [
    "- **矩阵乘法（Matrix multiplication）**  \n",
    "  使用 `np.matmul()` 或 `@` 运算符进行矩阵乘法，适用于二维数组的乘法运算。"
   ],
   "id": "8f170ebaf8dbd8bd"
  },
  {
   "metadata": {
    "ExecuteTime": {
     "end_time": "2024-11-06T06:01:46.083412Z",
     "start_time": "2024-11-06T06:01:46.078295Z"
    }
   },
   "cell_type": "code",
   "source": [
    "arr1 = np.array([[1, 2], [3, 4]])\n",
    "arr2 = np.array([[5, 6], [7, 8]])\n",
    "np.matmul(arr1, arr2)  # 或者 arr1 @ arr2"
   ],
   "id": "e5b12539086baefc",
   "outputs": [
    {
     "data": {
      "text/plain": [
       "array([[19, 22],\n",
       "       [43, 50]])"
      ]
     },
     "execution_count": 170,
     "metadata": {},
     "output_type": "execute_result"
    }
   ],
   "execution_count": 170
  },
  {
   "metadata": {},
   "cell_type": "markdown",
   "source": [
    "#### 数组的基本函数\n",
    "\n",
    "- **`np.sum()`**  \n",
    "  计算数组元素的总和。"
   ],
   "id": "5b099ccfc941db74"
  },
  {
   "metadata": {
    "ExecuteTime": {
     "end_time": "2024-11-06T06:01:46.384846Z",
     "start_time": "2024-11-06T06:01:46.381714Z"
    }
   },
   "cell_type": "code",
   "source": [
    "arr = np.array([1, 2, 3, 4])\n",
    "np.sum(arr)"
   ],
   "id": "942cbb2174229bdf",
   "outputs": [
    {
     "data": {
      "text/plain": [
       "np.int64(10)"
      ]
     },
     "execution_count": 171,
     "metadata": {},
     "output_type": "execute_result"
    }
   ],
   "execution_count": 171
  },
  {
   "metadata": {},
   "cell_type": "markdown",
   "source": [
    "- **`np.mean()`**  \n",
    "  计算数组元素的均值。"
   ],
   "id": "1422cfeb8fb07ee0"
  },
  {
   "metadata": {
    "ExecuteTime": {
     "end_time": "2024-11-06T06:01:46.882776Z",
     "start_time": "2024-11-06T06:01:46.879617Z"
    }
   },
   "cell_type": "code",
   "source": "np.mean(arr)",
   "id": "f9492c94f7b3c82",
   "outputs": [
    {
     "data": {
      "text/plain": [
       "np.float64(2.5)"
      ]
     },
     "execution_count": 172,
     "metadata": {},
     "output_type": "execute_result"
    }
   ],
   "execution_count": 172
  },
  {
   "metadata": {},
   "cell_type": "markdown",
   "source": [
    "- **`np.std()`**  \n",
    "  计算数组的标准差，衡量数组元素的分布情况。"
   ],
   "id": "917c2edb3be22708"
  },
  {
   "metadata": {
    "ExecuteTime": {
     "end_time": "2024-11-06T06:01:47.190035Z",
     "start_time": "2024-11-06T06:01:47.186531Z"
    }
   },
   "cell_type": "code",
   "source": "np.std(arr)",
   "id": "d2e97126a6d35a89",
   "outputs": [
    {
     "data": {
      "text/plain": [
       "np.float64(1.118033988749895)"
      ]
     },
     "execution_count": 173,
     "metadata": {},
     "output_type": "execute_result"
    }
   ],
   "execution_count": 173
  },
  {
   "metadata": {},
   "cell_type": "markdown",
   "source": [
    "- **`np.min()` 和 `np.max()`**  \n",
    "  计算数组中的最小值和最大值。"
   ],
   "id": "b97c1b2b35bffab7"
  },
  {
   "metadata": {
    "ExecuteTime": {
     "end_time": "2024-11-06T06:01:47.507056Z",
     "start_time": "2024-11-06T06:01:47.503676Z"
    }
   },
   "cell_type": "code",
   "source": [
    "print(\"min:\", np.min(arr))\n",
    "print(\"max:\", np.max(arr))"
   ],
   "id": "87bf6b7fbf651712",
   "outputs": [
    {
     "name": "stdout",
     "output_type": "stream",
     "text": [
      "min: 1\n",
      "max: 4\n"
     ]
    }
   ],
   "execution_count": 174
  },
  {
   "metadata": {},
   "cell_type": "markdown",
   "source": [
    "- **`np.argmin()` 和 `np.argmax()`**  \n",
    "  返回数组中最小值和最大值的索引。"
   ],
   "id": "f2df13fda31070e"
  },
  {
   "metadata": {
    "ExecuteTime": {
     "end_time": "2024-11-06T06:01:47.822598Z",
     "start_time": "2024-11-06T06:01:47.819804Z"
    }
   },
   "cell_type": "code",
   "source": [
    "print(\"argmin:\", np.argmin(arr))\n",
    "print(\"argmax:\", np.argmax(arr))"
   ],
   "id": "8075d30a8b7ec2f0",
   "outputs": [
    {
     "name": "stdout",
     "output_type": "stream",
     "text": [
      "argmin: 0\n",
      "argmax: 3\n"
     ]
    }
   ],
   "execution_count": 175
  },
  {
   "metadata": {},
   "cell_type": "markdown",
   "source": [
    "- **`np.reshape()`**  \n",
    "  改变数组的形状，适用于调整数组的维度。"
   ],
   "id": "94acbb72ae7f8994"
  },
  {
   "metadata": {
    "ExecuteTime": {
     "end_time": "2024-11-06T06:01:48.261009Z",
     "start_time": "2024-11-06T06:01:48.257414Z"
    }
   },
   "cell_type": "code",
   "source": [
    "arr = np.array([1, 2, 3, 4])\n",
    "arr.reshape((2, 2))"
   ],
   "id": "660839ac1e8926e9",
   "outputs": [
    {
     "data": {
      "text/plain": [
       "array([[1, 2],\n",
       "       [3, 4]])"
      ]
     },
     "execution_count": 176,
     "metadata": {},
     "output_type": "execute_result"
    }
   ],
   "execution_count": 176
  },
  {
   "metadata": {},
   "cell_type": "markdown",
   "source": [
    "- **`np.transpose()`**  \n",
    "  转置数组，主要用于二维数组，将行列交换。或者使用`ndarray.T`也可以达到同样的效果。"
   ],
   "id": "7818bb3819c35eb7"
  },
  {
   "metadata": {
    "ExecuteTime": {
     "end_time": "2024-11-06T06:01:48.617505Z",
     "start_time": "2024-11-06T06:01:48.614096Z"
    }
   },
   "cell_type": "code",
   "source": [
    "arr = np.array([[1, 2], [3, 4]])\n",
    "print(\"np.transpose:\\n\", np.transpose(arr))\n",
    "print(\"ndarray.T:\\n\", arr.T)"
   ],
   "id": "c6ca6a57c6bb7945",
   "outputs": [
    {
     "name": "stdout",
     "output_type": "stream",
     "text": [
      "np.transpose:\n",
      " [[1 3]\n",
      " [2 4]]\n",
      "ndarray.T:\n",
      " [[1 3]\n",
      " [2 4]]\n"
     ]
    }
   ],
   "execution_count": 177
  },
  {
   "metadata": {},
   "cell_type": "markdown",
   "source": [
    "#### 数组的逻辑运算\n",
    "\n",
    "- **`np.all()` 和 `np.any()`**  \n",
    "  检查数组中是否所有元素为 `True` 或是否至少有一个元素为 `True`。"
   ],
   "id": "52fd568a2d4d9c48"
  },
  {
   "metadata": {
    "ExecuteTime": {
     "end_time": "2024-11-06T06:01:49.211403Z",
     "start_time": "2024-11-06T06:01:49.208471Z"
    }
   },
   "cell_type": "code",
   "source": [
    "arr = np.array([True, False, True])\n",
    "print(np.all(arr))  # 输出 False\n",
    "print(np.any(arr))  # 输出 True"
   ],
   "id": "afc1da1239770787",
   "outputs": [
    {
     "name": "stdout",
     "output_type": "stream",
     "text": [
      "False\n",
      "True\n"
     ]
    }
   ],
   "execution_count": 178
  },
  {
   "metadata": {},
   "cell_type": "markdown",
   "source": [
    "- **元素级的比较运算**  \n",
    "  可以直接对数组进行元素级的比较运算，如相等、大于、小于等。"
   ],
   "id": "215e2395f35b2ef3"
  },
  {
   "metadata": {
    "ExecuteTime": {
     "end_time": "2024-11-06T06:01:50.141464Z",
     "start_time": "2024-11-06T06:01:50.137778Z"
    }
   },
   "cell_type": "code",
   "source": [
    "arr1 = np.array([1, 2, 3])\n",
    "arr2 = np.array([3, 2, 1])\n",
    "print(arr1 == arr2)  # 输出 [False  True False]\n",
    "print(arr1 > arr2)   # 输出 [False False  True]"
   ],
   "id": "7ed55751c9e6c88d",
   "outputs": [
    {
     "name": "stdout",
     "output_type": "stream",
     "text": [
      "[False  True False]\n",
      "[False False  True]\n"
     ]
    }
   ],
   "execution_count": 179
  },
  {
   "metadata": {},
   "cell_type": "markdown",
   "source": "通过这些基本的运算和函数，你可以高效地对 `ndarray` 进行各种数学和逻辑操作，进而进行复杂的数据分析和处理。",
   "id": "944bd96ccecf484"
  },
  {
   "metadata": {},
   "cell_type": "markdown",
   "source": "## `ndarray` 的索引、切片和迭代器",
   "id": "e9faa93ac2f0f852"
  },
  {
   "metadata": {},
   "cell_type": "markdown",
   "source": [
    "### 一维数组\n",
    "一维数组可以被索引、切片和迭代，就像 `list` 和其他 Python 序列一样。"
   ],
   "id": "6efb7b85c8bc04b9"
  },
  {
   "metadata": {
    "ExecuteTime": {
     "end_time": "2024-11-06T06:01:51.842172Z",
     "start_time": "2024-11-06T06:01:51.837758Z"
    }
   },
   "cell_type": "code",
   "source": [
    "a = np.arange(12)\n",
    "a"
   ],
   "id": "eeb181570ed588ac",
   "outputs": [
    {
     "data": {
      "text/plain": [
       "array([ 0,  1,  2,  3,  4,  5,  6,  7,  8,  9, 10, 11])"
      ]
     },
     "execution_count": 180,
     "metadata": {},
     "output_type": "execute_result"
    }
   ],
   "execution_count": 180
  },
  {
   "metadata": {
    "ExecuteTime": {
     "end_time": "2024-11-06T06:01:52.067982Z",
     "start_time": "2024-11-06T06:01:52.064672Z"
    }
   },
   "cell_type": "code",
   "source": "a [2]",
   "id": "3b0157762b7113a6",
   "outputs": [
    {
     "data": {
      "text/plain": [
       "np.int64(2)"
      ]
     },
     "execution_count": 181,
     "metadata": {},
     "output_type": "execute_result"
    }
   ],
   "execution_count": 181
  },
  {
   "metadata": {
    "ExecuteTime": {
     "end_time": "2024-11-06T06:01:52.311754Z",
     "start_time": "2024-11-06T06:01:52.308131Z"
    }
   },
   "cell_type": "code",
   "source": "a[2:6]",
   "id": "2aecc1b618bd2cf2",
   "outputs": [
    {
     "data": {
      "text/plain": [
       "array([2, 3, 4, 5])"
      ]
     },
     "execution_count": 182,
     "metadata": {},
     "output_type": "execute_result"
    }
   ],
   "execution_count": 182
  },
  {
   "metadata": {
    "ExecuteTime": {
     "end_time": "2024-11-06T06:01:52.707522Z",
     "start_time": "2024-11-06T06:01:52.703796Z"
    }
   },
   "cell_type": "code",
   "source": [
    "a[2:6] = 100\n",
    "a"
   ],
   "id": "57ead393eb11f808",
   "outputs": [
    {
     "data": {
      "text/plain": [
       "array([  0,   1, 100, 100, 100, 100,   6,   7,   8,   9,  10,  11])"
      ]
     },
     "execution_count": 183,
     "metadata": {},
     "output_type": "execute_result"
    }
   ],
   "execution_count": 183
  },
  {
   "metadata": {
    "ExecuteTime": {
     "end_time": "2024-11-06T06:01:53.267601Z",
     "start_time": "2024-11-06T06:01:53.263617Z"
    }
   },
   "cell_type": "code",
   "source": [
    "for i in a:\n",
    "    print(i + 25, end=\" \")\n",
    "a"
   ],
   "id": "b1e0764bef7b65cf",
   "outputs": [
    {
     "name": "stdout",
     "output_type": "stream",
     "text": [
      "25 26 125 125 125 125 31 32 33 34 35 36 "
     ]
    },
    {
     "data": {
      "text/plain": [
       "array([  0,   1, 100, 100, 100, 100,   6,   7,   8,   9,  10,  11])"
      ]
     },
     "execution_count": 184,
     "metadata": {},
     "output_type": "execute_result"
    }
   ],
   "execution_count": 184
  },
  {
   "metadata": {},
   "cell_type": "markdown",
   "source": [
    "### 多维数组\n",
    "多维数组的每个轴有一个索引，这些索引以元组的形式给出。"
   ],
   "id": "379cc0faecddee66"
  },
  {
   "metadata": {
    "ExecuteTime": {
     "end_time": "2024-11-06T06:01:54.213778Z",
     "start_time": "2024-11-06T06:01:54.210635Z"
    }
   },
   "cell_type": "code",
   "source": [
    "a = np.arange(12).reshape(3, 4)\n",
    "a"
   ],
   "id": "ba10bae1ebea9309",
   "outputs": [
    {
     "data": {
      "text/plain": [
       "array([[ 0,  1,  2,  3],\n",
       "       [ 4,  5,  6,  7],\n",
       "       [ 8,  9, 10, 11]])"
      ]
     },
     "execution_count": 185,
     "metadata": {},
     "output_type": "execute_result"
    }
   ],
   "execution_count": 185
  },
  {
   "metadata": {
    "ExecuteTime": {
     "end_time": "2024-11-06T06:01:54.803570Z",
     "start_time": "2024-11-06T06:01:54.799693Z"
    }
   },
   "cell_type": "code",
   "source": "a[2, 3]",
   "id": "f3da920e4ff7858c",
   "outputs": [
    {
     "data": {
      "text/plain": [
       "np.int64(11)"
      ]
     },
     "execution_count": 186,
     "metadata": {},
     "output_type": "execute_result"
    }
   ],
   "execution_count": 186
  },
  {
   "metadata": {
    "ExecuteTime": {
     "end_time": "2024-11-06T06:01:55.177664Z",
     "start_time": "2024-11-06T06:01:55.173837Z"
    }
   },
   "cell_type": "code",
   "source": "a[:, 1]",
   "id": "82ab71e87334c72d",
   "outputs": [
    {
     "data": {
      "text/plain": [
       "array([1, 5, 9])"
      ]
     },
     "execution_count": 187,
     "metadata": {},
     "output_type": "execute_result"
    }
   ],
   "execution_count": 187
  },
  {
   "metadata": {},
   "cell_type": "markdown",
   "source": "当提供的索引维数小于数组的维数时，缺失的索引将被视为完整切片`:`。",
   "id": "ee2f26d8198c4c6"
  },
  {
   "metadata": {
    "ExecuteTime": {
     "end_time": "2024-11-06T06:01:55.924165Z",
     "start_time": "2024-11-06T06:01:55.920460Z"
    }
   },
   "cell_type": "code",
   "source": "a[1]",
   "id": "ddad76f20fe118e2",
   "outputs": [
    {
     "data": {
      "text/plain": [
       "array([4, 5, 6, 7])"
      ]
     },
     "execution_count": 188,
     "metadata": {},
     "output_type": "execute_result"
    }
   ],
   "execution_count": 188
  },
  {
   "metadata": {},
   "cell_type": "markdown",
   "source": "对于多维数组的迭代，是针对第一个轴进行的。",
   "id": "33f969f4a477cff0"
  },
  {
   "metadata": {
    "ExecuteTime": {
     "end_time": "2024-11-06T06:01:56.801351Z",
     "start_time": "2024-11-06T06:01:56.796185Z"
    }
   },
   "cell_type": "code",
   "source": [
    "for i in a:\n",
    "    print(repr(i))"
   ],
   "id": "91950a50b0ad654c",
   "outputs": [
    {
     "name": "stdout",
     "output_type": "stream",
     "text": [
      "array([0, 1, 2, 3])\n",
      "array([4, 5, 6, 7])\n",
      "array([ 8,  9, 10, 11])\n"
     ]
    }
   ],
   "execution_count": 189
  },
  {
   "metadata": {},
   "cell_type": "markdown",
   "source": " 如果想要针对单个元素进行迭代，可以将数组展平为一维数组之后进行。",
   "id": "7803b43d7ec7916c"
  },
  {
   "metadata": {
    "ExecuteTime": {
     "end_time": "2024-11-06T06:01:57.597179Z",
     "start_time": "2024-11-06T06:01:57.594022Z"
    }
   },
   "cell_type": "code",
   "source": [
    "for i in a.flat:\n",
    "    print(i, end=\" \")\n",
    "print(\"\\n\")"
   ],
   "id": "6348a5a038c9f2b9",
   "outputs": [
    {
     "name": "stdout",
     "output_type": "stream",
     "text": [
      "0 1 2 3 4 5 6 7 8 9 10 11 \n",
      "\n"
     ]
    }
   ],
   "execution_count": 190
  },
  {
   "metadata": {},
   "cell_type": "markdown",
   "source": "## `ndarray` 的引用、视图和拷贝",
   "id": "3543305eb92142"
  },
  {
   "metadata": {},
   "cell_type": "markdown",
   "source": [
    "### `ndarray` 的引用\n",
    "简单的赋值并不会复制对象。"
   ],
   "id": "4e30ca1ccc3f6325"
  },
  {
   "metadata": {
    "ExecuteTime": {
     "end_time": "2024-11-06T06:01:59.592451Z",
     "start_time": "2024-11-06T06:01:59.588864Z"
    }
   },
   "cell_type": "code",
   "source": [
    "a = np.array(1)\n",
    "b = a\n",
    "b is a"
   ],
   "id": "a15581172e926163",
   "outputs": [
    {
     "data": {
      "text/plain": [
       "True"
      ]
     },
     "execution_count": 191,
     "metadata": {},
     "output_type": "execute_result"
    }
   ],
   "execution_count": 191
  },
  {
   "metadata": {},
   "cell_type": "markdown",
   "source": "Python 将可变对象作为引用传递，因此函数调用也不会发生复制。",
   "id": "947aac4ae54c0984"
  },
  {
   "metadata": {
    "ExecuteTime": {
     "end_time": "2024-11-06T06:01:59.922921Z",
     "start_time": "2024-11-06T06:01:59.919625Z"
    }
   },
   "cell_type": "code",
   "source": [
    "def f(arr):\n",
    "    return arr is a\n",
    "f(a)"
   ],
   "id": "7f86299d7226ff0",
   "outputs": [
    {
     "data": {
      "text/plain": [
       "True"
      ]
     },
     "execution_count": 192,
     "metadata": {},
     "output_type": "execute_result"
    }
   ],
   "execution_count": 192
  },
  {
   "metadata": {},
   "cell_type": "markdown",
   "source": [
    "### `ndarray` 的视图\n",
    "\n",
    "不同的数组对象可以共享相同的数据，这种共享中可以称不持有数据的数组为对应持有数据的数组的视图。\n",
    "我们可以通过`ndarray.view()`查看一个数组的视图。"
   ],
   "id": "d608f784ffff4050"
  },
  {
   "metadata": {
    "ExecuteTime": {
     "end_time": "2024-11-06T06:02:00.556437Z",
     "start_time": "2024-11-06T06:02:00.552715Z"
    }
   },
   "cell_type": "code",
   "source": [
    "a = np.array([1, 2, 3])\n",
    "b = a.view()\n",
    "b"
   ],
   "id": "bde2c878ff7617f3",
   "outputs": [
    {
     "data": {
      "text/plain": [
       "array([1, 2, 3])"
      ]
     },
     "execution_count": 193,
     "metadata": {},
     "output_type": "execute_result"
    }
   ],
   "execution_count": 193
  },
  {
   "metadata": {},
   "cell_type": "markdown",
   "source": "这里视图数组并不是原数组的引用，但是他们查看的是相同的数据，视图数组的`base`属性存储了原数组的引用。",
   "id": "98abe4d7b57dca32"
  },
  {
   "metadata": {
    "ExecuteTime": {
     "end_time": "2024-11-06T06:02:01.097432Z",
     "start_time": "2024-11-06T06:02:01.094939Z"
    }
   },
   "cell_type": "code",
   "source": [
    "print(\"b is a:\", b is a)\n",
    "print(\"b.base is a:\", b.base is a)"
   ],
   "id": "442a7409b8e82c6c",
   "outputs": [
    {
     "name": "stdout",
     "output_type": "stream",
     "text": [
      "b is a: False\n",
      "b.base is a: True\n"
     ]
    }
   ],
   "execution_count": 194
  },
  {
   "metadata": {},
   "cell_type": "markdown",
   "source": "视图数组的视图数组中，其存储的原数组`base`存储了原数组（即持有数据的数组）的引用，而不是创建视图数组的引用。",
   "id": "332d5717ab17670"
  },
  {
   "metadata": {
    "ExecuteTime": {
     "end_time": "2024-11-06T06:02:01.529205Z",
     "start_time": "2024-11-06T06:02:01.525700Z"
    }
   },
   "cell_type": "code",
   "source": [
    "c = b.view()\n",
    "print(\"c is b:\", c is b)\n",
    "print(\"c.base is b:\", c.base is b)\n",
    "print(\"c.base is a:\", c.base is a)"
   ],
   "id": "4e16f06d7f2715a4",
   "outputs": [
    {
     "name": "stdout",
     "output_type": "stream",
     "text": [
      "c is b: False\n",
      "c.base is b: False\n",
      "c.base is a: True\n"
     ]
    }
   ],
   "execution_count": 195
  },
  {
   "metadata": {},
   "cell_type": "markdown",
   "source": "视图中的数组数据更改，原数组中的数据也会被更改。（他们更改的是同一份数据）",
   "id": "e2fdd7cbaf9d4a2f"
  },
  {
   "metadata": {
    "ExecuteTime": {
     "end_time": "2024-11-06T06:02:01.914193Z",
     "start_time": "2024-11-06T06:02:01.910224Z"
    }
   },
   "cell_type": "code",
   "source": [
    "b[2] = 100\n",
    "a"
   ],
   "id": "78972dcc09c5339f",
   "outputs": [
    {
     "data": {
      "text/plain": [
       "array([  1,   2, 100])"
      ]
     },
     "execution_count": 196,
     "metadata": {},
     "output_type": "execute_result"
    }
   ],
   "execution_count": 196
  },
  {
   "metadata": {},
   "cell_type": "markdown",
   "source": "数组的索引、切片创建的也是数组的视图而并非拷贝，一些方法(例如`ndarray.reshape()`)返回的也是数组的视图。",
   "id": "1ddcded742d87b24"
  },
  {
   "metadata": {
    "ExecuteTime": {
     "end_time": "2024-11-06T06:02:02.490329Z",
     "start_time": "2024-11-06T06:02:02.486183Z"
    }
   },
   "cell_type": "code",
   "source": [
    "b = a[1:2]\n",
    "b"
   ],
   "id": "a97c3d5dd97bc2f5",
   "outputs": [
    {
     "data": {
      "text/plain": [
       "array([2])"
      ]
     },
     "execution_count": 197,
     "metadata": {},
     "output_type": "execute_result"
    }
   ],
   "execution_count": 197
  },
  {
   "metadata": {
    "ExecuteTime": {
     "end_time": "2024-11-06T06:02:02.664964Z",
     "start_time": "2024-11-06T06:02:02.654136Z"
    }
   },
   "cell_type": "code",
   "source": [
    "print(\"b is a:\", b is a)\n",
    "print(\"b.base is a:\", b.base is a)\n",
    "print(\"b.flags.owndata:\", b.flags.owndata)"
   ],
   "id": "258a7f8c4374d979",
   "outputs": [
    {
     "name": "stdout",
     "output_type": "stream",
     "text": [
      "b is a: False\n",
      "b.base is a: True\n",
      "b.flags.owndata: False\n"
     ]
    }
   ],
   "execution_count": 198
  },
  {
   "metadata": {
    "ExecuteTime": {
     "end_time": "2024-11-06T06:02:02.825355Z",
     "start_time": "2024-11-06T06:02:02.820918Z"
    }
   },
   "cell_type": "code",
   "source": [
    "b = a.reshape(1, 3)\n",
    "b"
   ],
   "id": "68edb09e89fe4b34",
   "outputs": [
    {
     "data": {
      "text/plain": [
       "array([[  1,   2, 100]])"
      ]
     },
     "execution_count": 199,
     "metadata": {},
     "output_type": "execute_result"
    }
   ],
   "execution_count": 199
  },
  {
   "metadata": {
    "ExecuteTime": {
     "end_time": "2024-11-06T06:02:03.000715Z",
     "start_time": "2024-11-06T06:02:02.997706Z"
    }
   },
   "cell_type": "code",
   "source": [
    "print(\"b.shape:\", b.shape)\n",
    "print(\"a.shape:\", a.shape)\n",
    "print(\"b.base is a:\", b.base is a)"
   ],
   "id": "bab12d45fe4a6bd8",
   "outputs": [
    {
     "name": "stdout",
     "output_type": "stream",
     "text": [
      "b.shape: (1, 3)\n",
      "a.shape: (3,)\n",
      "b.base is a: True\n"
     ]
    }
   ],
   "execution_count": 200
  },
  {
   "metadata": {},
   "cell_type": "markdown",
   "source": [
    "### `ndarray` 的拷贝\n",
    "我们可以通过`copy`方法对数组进行深拷贝。"
   ],
   "id": "e566f79084a34814"
  },
  {
   "metadata": {
    "ExecuteTime": {
     "end_time": "2024-11-06T06:02:04.272449Z",
     "start_time": "2024-11-06T06:02:04.269555Z"
    }
   },
   "cell_type": "code",
   "source": [
    "a = np.array([1, 2, 3])\n",
    "b = a.copy()\n",
    "b"
   ],
   "id": "72623fbe6f972679",
   "outputs": [
    {
     "data": {
      "text/plain": [
       "array([1, 2, 3])"
      ]
     },
     "execution_count": 201,
     "metadata": {},
     "output_type": "execute_result"
    }
   ],
   "execution_count": 201
  },
  {
   "metadata": {
    "ExecuteTime": {
     "end_time": "2024-11-06T06:02:04.457442Z",
     "start_time": "2024-11-06T06:02:04.454245Z"
    }
   },
   "cell_type": "code",
   "source": [
    "print(\"b is a:\", b is a)\n",
    "print(\"b.base is a:\", b.base is a)\n",
    "print(\"b.flags.owndata:\", b.flags.owndata)"
   ],
   "id": "6efd60d1ea02325a",
   "outputs": [
    {
     "name": "stdout",
     "output_type": "stream",
     "text": [
      "b is a: False\n",
      "b.base is a: False\n",
      "b.flags.owndata: True\n"
     ]
    }
   ],
   "execution_count": 202
  },
  {
   "metadata": {},
   "cell_type": "markdown",
   "source": "此时他们二者持有的是相互独立的数据。",
   "id": "a099681ec7dfe64a"
  },
  {
   "metadata": {},
   "cell_type": "markdown",
   "source": "**注意:** Numpy 的 MaskedArray 在拷贝方面有众多bug，不建议使用。（其实它哪个方面都有众多bug）",
   "id": "c5b41bc6b8369104"
  }
 ],
 "metadata": {
  "kernelspec": {
   "display_name": "Python 3",
   "language": "python",
   "name": "python3"
  },
  "language_info": {
   "codemirror_mode": {
    "name": "ipython",
    "version": 2
   },
   "file_extension": ".py",
   "mimetype": "text/x-python",
   "name": "python",
   "nbconvert_exporter": "python",
   "pygments_lexer": "ipython2",
   "version": "2.7.6"
  }
 },
 "nbformat": 4,
 "nbformat_minor": 5
}
